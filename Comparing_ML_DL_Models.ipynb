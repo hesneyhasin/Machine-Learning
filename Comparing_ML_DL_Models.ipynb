{
  "nbformat": 4,
  "nbformat_minor": 0,
  "metadata": {
    "colab": {
      "provenance": []
    },
    "kernelspec": {
      "name": "python3",
      "display_name": "Python 3"
    },
    "language_info": {
      "name": "python"
    }
  },
  "cells": [
    {
      "cell_type": "code",
      "source": [
        "import pandas as pd\n",
        "from sklearn.model_selection import train_test_split\n",
        "from sklearn.svm import SVC\n",
        "from sklearn.metrics import classification_report\n",
        "import matplotlib.pyplot as plt\n",
        "import seaborn as sns\n",
        "import numpy as np\n",
        "from sklearn.metrics import confusion_matrix\n",
        "from sklearn.preprocessing import StandardScaler, LabelEncoder\n",
        "from sklearn.tree import DecisionTreeClassifier\n",
        "import matplotlib.pyplot as plt\n",
        "from sklearn.metrics import accuracy_score, precision_score, recall_score, f1_score, confusion_matrix\n",
        "from scipy import stats\n",
        "import tensorflow as tf\n",
        "import keras\n",
        "from keras.layers import Dense, Dropout, Input\n",
        "from keras.models import Sequential\n",
        "from sklearn.ensemble import RandomForestClassifier\n"
      ],
      "metadata": {
        "id": "INLo7mBFF_nj"
      },
      "execution_count": 184,
      "outputs": []
    },
    {
      "cell_type": "code",
      "source": [
        "\n",
        "file_path = '/content/heart_disease_uci.csv'\n",
        "data = pd.read_csv(file_path)\n"
      ],
      "metadata": {
        "id": "YoziBTn4GN-s"
      },
      "execution_count": 185,
      "outputs": []
    },
    {
      "cell_type": "code",
      "source": [
        "data.head()"
      ],
      "metadata": {
        "colab": {
          "base_uri": "https://localhost:8080/",
          "height": 206
        },
        "id": "EOvaJWxxGWnc",
        "outputId": "abe19091-ea37-46dd-e2fd-9eca031afe61"
      },
      "execution_count": 186,
      "outputs": [
        {
          "output_type": "execute_result",
          "data": {
            "text/plain": [
              "   id  age     sex    dataset               cp  trestbps   chol    fbs  \\\n",
              "0   1   63    Male  Cleveland   typical angina     145.0  233.0   True   \n",
              "1   2   67    Male  Cleveland     asymptomatic     160.0  286.0  False   \n",
              "2   3   67    Male  Cleveland     asymptomatic     120.0  229.0  False   \n",
              "3   4   37    Male  Cleveland      non-anginal     130.0  250.0  False   \n",
              "4   5   41  Female  Cleveland  atypical angina     130.0  204.0  False   \n",
              "\n",
              "          restecg  thalch  exang  oldpeak        slope   ca  \\\n",
              "0  lv hypertrophy   150.0  False      2.3  downsloping  0.0   \n",
              "1  lv hypertrophy   108.0   True      1.5         flat  3.0   \n",
              "2  lv hypertrophy   129.0   True      2.6         flat  2.0   \n",
              "3          normal   187.0  False      3.5  downsloping  0.0   \n",
              "4  lv hypertrophy   172.0  False      1.4    upsloping  0.0   \n",
              "\n",
              "                thal  num  \n",
              "0       fixed defect    0  \n",
              "1             normal    2  \n",
              "2  reversable defect    1  \n",
              "3             normal    0  \n",
              "4             normal    0  "
            ],
            "text/html": [
              "\n",
              "  <div id=\"df-3b3d7d99-d924-40f5-b8fc-aafbd6219211\" class=\"colab-df-container\">\n",
              "    <div>\n",
              "<style scoped>\n",
              "    .dataframe tbody tr th:only-of-type {\n",
              "        vertical-align: middle;\n",
              "    }\n",
              "\n",
              "    .dataframe tbody tr th {\n",
              "        vertical-align: top;\n",
              "    }\n",
              "\n",
              "    .dataframe thead th {\n",
              "        text-align: right;\n",
              "    }\n",
              "</style>\n",
              "<table border=\"1\" class=\"dataframe\">\n",
              "  <thead>\n",
              "    <tr style=\"text-align: right;\">\n",
              "      <th></th>\n",
              "      <th>id</th>\n",
              "      <th>age</th>\n",
              "      <th>sex</th>\n",
              "      <th>dataset</th>\n",
              "      <th>cp</th>\n",
              "      <th>trestbps</th>\n",
              "      <th>chol</th>\n",
              "      <th>fbs</th>\n",
              "      <th>restecg</th>\n",
              "      <th>thalch</th>\n",
              "      <th>exang</th>\n",
              "      <th>oldpeak</th>\n",
              "      <th>slope</th>\n",
              "      <th>ca</th>\n",
              "      <th>thal</th>\n",
              "      <th>num</th>\n",
              "    </tr>\n",
              "  </thead>\n",
              "  <tbody>\n",
              "    <tr>\n",
              "      <th>0</th>\n",
              "      <td>1</td>\n",
              "      <td>63</td>\n",
              "      <td>Male</td>\n",
              "      <td>Cleveland</td>\n",
              "      <td>typical angina</td>\n",
              "      <td>145.0</td>\n",
              "      <td>233.0</td>\n",
              "      <td>True</td>\n",
              "      <td>lv hypertrophy</td>\n",
              "      <td>150.0</td>\n",
              "      <td>False</td>\n",
              "      <td>2.3</td>\n",
              "      <td>downsloping</td>\n",
              "      <td>0.0</td>\n",
              "      <td>fixed defect</td>\n",
              "      <td>0</td>\n",
              "    </tr>\n",
              "    <tr>\n",
              "      <th>1</th>\n",
              "      <td>2</td>\n",
              "      <td>67</td>\n",
              "      <td>Male</td>\n",
              "      <td>Cleveland</td>\n",
              "      <td>asymptomatic</td>\n",
              "      <td>160.0</td>\n",
              "      <td>286.0</td>\n",
              "      <td>False</td>\n",
              "      <td>lv hypertrophy</td>\n",
              "      <td>108.0</td>\n",
              "      <td>True</td>\n",
              "      <td>1.5</td>\n",
              "      <td>flat</td>\n",
              "      <td>3.0</td>\n",
              "      <td>normal</td>\n",
              "      <td>2</td>\n",
              "    </tr>\n",
              "    <tr>\n",
              "      <th>2</th>\n",
              "      <td>3</td>\n",
              "      <td>67</td>\n",
              "      <td>Male</td>\n",
              "      <td>Cleveland</td>\n",
              "      <td>asymptomatic</td>\n",
              "      <td>120.0</td>\n",
              "      <td>229.0</td>\n",
              "      <td>False</td>\n",
              "      <td>lv hypertrophy</td>\n",
              "      <td>129.0</td>\n",
              "      <td>True</td>\n",
              "      <td>2.6</td>\n",
              "      <td>flat</td>\n",
              "      <td>2.0</td>\n",
              "      <td>reversable defect</td>\n",
              "      <td>1</td>\n",
              "    </tr>\n",
              "    <tr>\n",
              "      <th>3</th>\n",
              "      <td>4</td>\n",
              "      <td>37</td>\n",
              "      <td>Male</td>\n",
              "      <td>Cleveland</td>\n",
              "      <td>non-anginal</td>\n",
              "      <td>130.0</td>\n",
              "      <td>250.0</td>\n",
              "      <td>False</td>\n",
              "      <td>normal</td>\n",
              "      <td>187.0</td>\n",
              "      <td>False</td>\n",
              "      <td>3.5</td>\n",
              "      <td>downsloping</td>\n",
              "      <td>0.0</td>\n",
              "      <td>normal</td>\n",
              "      <td>0</td>\n",
              "    </tr>\n",
              "    <tr>\n",
              "      <th>4</th>\n",
              "      <td>5</td>\n",
              "      <td>41</td>\n",
              "      <td>Female</td>\n",
              "      <td>Cleveland</td>\n",
              "      <td>atypical angina</td>\n",
              "      <td>130.0</td>\n",
              "      <td>204.0</td>\n",
              "      <td>False</td>\n",
              "      <td>lv hypertrophy</td>\n",
              "      <td>172.0</td>\n",
              "      <td>False</td>\n",
              "      <td>1.4</td>\n",
              "      <td>upsloping</td>\n",
              "      <td>0.0</td>\n",
              "      <td>normal</td>\n",
              "      <td>0</td>\n",
              "    </tr>\n",
              "  </tbody>\n",
              "</table>\n",
              "</div>\n",
              "    <div class=\"colab-df-buttons\">\n",
              "\n",
              "  <div class=\"colab-df-container\">\n",
              "    <button class=\"colab-df-convert\" onclick=\"convertToInteractive('df-3b3d7d99-d924-40f5-b8fc-aafbd6219211')\"\n",
              "            title=\"Convert this dataframe to an interactive table.\"\n",
              "            style=\"display:none;\">\n",
              "\n",
              "  <svg xmlns=\"http://www.w3.org/2000/svg\" height=\"24px\" viewBox=\"0 -960 960 960\">\n",
              "    <path d=\"M120-120v-720h720v720H120Zm60-500h600v-160H180v160Zm220 220h160v-160H400v160Zm0 220h160v-160H400v160ZM180-400h160v-160H180v160Zm440 0h160v-160H620v160ZM180-180h160v-160H180v160Zm440 0h160v-160H620v160Z\"/>\n",
              "  </svg>\n",
              "    </button>\n",
              "\n",
              "  <style>\n",
              "    .colab-df-container {\n",
              "      display:flex;\n",
              "      gap: 12px;\n",
              "    }\n",
              "\n",
              "    .colab-df-convert {\n",
              "      background-color: #E8F0FE;\n",
              "      border: none;\n",
              "      border-radius: 50%;\n",
              "      cursor: pointer;\n",
              "      display: none;\n",
              "      fill: #1967D2;\n",
              "      height: 32px;\n",
              "      padding: 0 0 0 0;\n",
              "      width: 32px;\n",
              "    }\n",
              "\n",
              "    .colab-df-convert:hover {\n",
              "      background-color: #E2EBFA;\n",
              "      box-shadow: 0px 1px 2px rgba(60, 64, 67, 0.3), 0px 1px 3px 1px rgba(60, 64, 67, 0.15);\n",
              "      fill: #174EA6;\n",
              "    }\n",
              "\n",
              "    .colab-df-buttons div {\n",
              "      margin-bottom: 4px;\n",
              "    }\n",
              "\n",
              "    [theme=dark] .colab-df-convert {\n",
              "      background-color: #3B4455;\n",
              "      fill: #D2E3FC;\n",
              "    }\n",
              "\n",
              "    [theme=dark] .colab-df-convert:hover {\n",
              "      background-color: #434B5C;\n",
              "      box-shadow: 0px 1px 3px 1px rgba(0, 0, 0, 0.15);\n",
              "      filter: drop-shadow(0px 1px 2px rgba(0, 0, 0, 0.3));\n",
              "      fill: #FFFFFF;\n",
              "    }\n",
              "  </style>\n",
              "\n",
              "    <script>\n",
              "      const buttonEl =\n",
              "        document.querySelector('#df-3b3d7d99-d924-40f5-b8fc-aafbd6219211 button.colab-df-convert');\n",
              "      buttonEl.style.display =\n",
              "        google.colab.kernel.accessAllowed ? 'block' : 'none';\n",
              "\n",
              "      async function convertToInteractive(key) {\n",
              "        const element = document.querySelector('#df-3b3d7d99-d924-40f5-b8fc-aafbd6219211');\n",
              "        const dataTable =\n",
              "          await google.colab.kernel.invokeFunction('convertToInteractive',\n",
              "                                                    [key], {});\n",
              "        if (!dataTable) return;\n",
              "\n",
              "        const docLinkHtml = 'Like what you see? Visit the ' +\n",
              "          '<a target=\"_blank\" href=https://colab.research.google.com/notebooks/data_table.ipynb>data table notebook</a>'\n",
              "          + ' to learn more about interactive tables.';\n",
              "        element.innerHTML = '';\n",
              "        dataTable['output_type'] = 'display_data';\n",
              "        await google.colab.output.renderOutput(dataTable, element);\n",
              "        const docLink = document.createElement('div');\n",
              "        docLink.innerHTML = docLinkHtml;\n",
              "        element.appendChild(docLink);\n",
              "      }\n",
              "    </script>\n",
              "  </div>\n",
              "\n",
              "\n",
              "    <div id=\"df-8da4fc07-536a-4f07-8a89-15aa983e3fe3\">\n",
              "      <button class=\"colab-df-quickchart\" onclick=\"quickchart('df-8da4fc07-536a-4f07-8a89-15aa983e3fe3')\"\n",
              "                title=\"Suggest charts\"\n",
              "                style=\"display:none;\">\n",
              "\n",
              "<svg xmlns=\"http://www.w3.org/2000/svg\" height=\"24px\"viewBox=\"0 0 24 24\"\n",
              "     width=\"24px\">\n",
              "    <g>\n",
              "        <path d=\"M19 3H5c-1.1 0-2 .9-2 2v14c0 1.1.9 2 2 2h14c1.1 0 2-.9 2-2V5c0-1.1-.9-2-2-2zM9 17H7v-7h2v7zm4 0h-2V7h2v10zm4 0h-2v-4h2v4z\"/>\n",
              "    </g>\n",
              "</svg>\n",
              "      </button>\n",
              "\n",
              "<style>\n",
              "  .colab-df-quickchart {\n",
              "      --bg-color: #E8F0FE;\n",
              "      --fill-color: #1967D2;\n",
              "      --hover-bg-color: #E2EBFA;\n",
              "      --hover-fill-color: #174EA6;\n",
              "      --disabled-fill-color: #AAA;\n",
              "      --disabled-bg-color: #DDD;\n",
              "  }\n",
              "\n",
              "  [theme=dark] .colab-df-quickchart {\n",
              "      --bg-color: #3B4455;\n",
              "      --fill-color: #D2E3FC;\n",
              "      --hover-bg-color: #434B5C;\n",
              "      --hover-fill-color: #FFFFFF;\n",
              "      --disabled-bg-color: #3B4455;\n",
              "      --disabled-fill-color: #666;\n",
              "  }\n",
              "\n",
              "  .colab-df-quickchart {\n",
              "    background-color: var(--bg-color);\n",
              "    border: none;\n",
              "    border-radius: 50%;\n",
              "    cursor: pointer;\n",
              "    display: none;\n",
              "    fill: var(--fill-color);\n",
              "    height: 32px;\n",
              "    padding: 0;\n",
              "    width: 32px;\n",
              "  }\n",
              "\n",
              "  .colab-df-quickchart:hover {\n",
              "    background-color: var(--hover-bg-color);\n",
              "    box-shadow: 0 1px 2px rgba(60, 64, 67, 0.3), 0 1px 3px 1px rgba(60, 64, 67, 0.15);\n",
              "    fill: var(--button-hover-fill-color);\n",
              "  }\n",
              "\n",
              "  .colab-df-quickchart-complete:disabled,\n",
              "  .colab-df-quickchart-complete:disabled:hover {\n",
              "    background-color: var(--disabled-bg-color);\n",
              "    fill: var(--disabled-fill-color);\n",
              "    box-shadow: none;\n",
              "  }\n",
              "\n",
              "  .colab-df-spinner {\n",
              "    border: 2px solid var(--fill-color);\n",
              "    border-color: transparent;\n",
              "    border-bottom-color: var(--fill-color);\n",
              "    animation:\n",
              "      spin 1s steps(1) infinite;\n",
              "  }\n",
              "\n",
              "  @keyframes spin {\n",
              "    0% {\n",
              "      border-color: transparent;\n",
              "      border-bottom-color: var(--fill-color);\n",
              "      border-left-color: var(--fill-color);\n",
              "    }\n",
              "    20% {\n",
              "      border-color: transparent;\n",
              "      border-left-color: var(--fill-color);\n",
              "      border-top-color: var(--fill-color);\n",
              "    }\n",
              "    30% {\n",
              "      border-color: transparent;\n",
              "      border-left-color: var(--fill-color);\n",
              "      border-top-color: var(--fill-color);\n",
              "      border-right-color: var(--fill-color);\n",
              "    }\n",
              "    40% {\n",
              "      border-color: transparent;\n",
              "      border-right-color: var(--fill-color);\n",
              "      border-top-color: var(--fill-color);\n",
              "    }\n",
              "    60% {\n",
              "      border-color: transparent;\n",
              "      border-right-color: var(--fill-color);\n",
              "    }\n",
              "    80% {\n",
              "      border-color: transparent;\n",
              "      border-right-color: var(--fill-color);\n",
              "      border-bottom-color: var(--fill-color);\n",
              "    }\n",
              "    90% {\n",
              "      border-color: transparent;\n",
              "      border-bottom-color: var(--fill-color);\n",
              "    }\n",
              "  }\n",
              "</style>\n",
              "\n",
              "      <script>\n",
              "        async function quickchart(key) {\n",
              "          const quickchartButtonEl =\n",
              "            document.querySelector('#' + key + ' button');\n",
              "          quickchartButtonEl.disabled = true;  // To prevent multiple clicks.\n",
              "          quickchartButtonEl.classList.add('colab-df-spinner');\n",
              "          try {\n",
              "            const charts = await google.colab.kernel.invokeFunction(\n",
              "                'suggestCharts', [key], {});\n",
              "          } catch (error) {\n",
              "            console.error('Error during call to suggestCharts:', error);\n",
              "          }\n",
              "          quickchartButtonEl.classList.remove('colab-df-spinner');\n",
              "          quickchartButtonEl.classList.add('colab-df-quickchart-complete');\n",
              "        }\n",
              "        (() => {\n",
              "          let quickchartButtonEl =\n",
              "            document.querySelector('#df-8da4fc07-536a-4f07-8a89-15aa983e3fe3 button');\n",
              "          quickchartButtonEl.style.display =\n",
              "            google.colab.kernel.accessAllowed ? 'block' : 'none';\n",
              "        })();\n",
              "      </script>\n",
              "    </div>\n",
              "\n",
              "    </div>\n",
              "  </div>\n"
            ],
            "application/vnd.google.colaboratory.intrinsic+json": {
              "type": "dataframe",
              "variable_name": "data",
              "summary": "{\n  \"name\": \"data\",\n  \"rows\": 920,\n  \"fields\": [\n    {\n      \"column\": \"id\",\n      \"properties\": {\n        \"dtype\": \"number\",\n        \"std\": 265,\n        \"min\": 1,\n        \"max\": 920,\n        \"num_unique_values\": 920,\n        \"samples\": [\n          320,\n          378,\n          539\n        ],\n        \"semantic_type\": \"\",\n        \"description\": \"\"\n      }\n    },\n    {\n      \"column\": \"age\",\n      \"properties\": {\n        \"dtype\": \"number\",\n        \"std\": 9,\n        \"min\": 28,\n        \"max\": 77,\n        \"num_unique_values\": 50,\n        \"samples\": [\n          64,\n          74,\n          39\n        ],\n        \"semantic_type\": \"\",\n        \"description\": \"\"\n      }\n    },\n    {\n      \"column\": \"sex\",\n      \"properties\": {\n        \"dtype\": \"category\",\n        \"num_unique_values\": 2,\n        \"samples\": [\n          \"Female\",\n          \"Male\"\n        ],\n        \"semantic_type\": \"\",\n        \"description\": \"\"\n      }\n    },\n    {\n      \"column\": \"dataset\",\n      \"properties\": {\n        \"dtype\": \"category\",\n        \"num_unique_values\": 4,\n        \"samples\": [\n          \"Hungary\",\n          \"VA Long Beach\"\n        ],\n        \"semantic_type\": \"\",\n        \"description\": \"\"\n      }\n    },\n    {\n      \"column\": \"cp\",\n      \"properties\": {\n        \"dtype\": \"category\",\n        \"num_unique_values\": 4,\n        \"samples\": [\n          \"asymptomatic\",\n          \"atypical angina\"\n        ],\n        \"semantic_type\": \"\",\n        \"description\": \"\"\n      }\n    },\n    {\n      \"column\": \"trestbps\",\n      \"properties\": {\n        \"dtype\": \"number\",\n        \"std\": 19.066069518587458,\n        \"min\": 0.0,\n        \"max\": 200.0,\n        \"num_unique_values\": 61,\n        \"samples\": [\n          145.0,\n          172.0\n        ],\n        \"semantic_type\": \"\",\n        \"description\": \"\"\n      }\n    },\n    {\n      \"column\": \"chol\",\n      \"properties\": {\n        \"dtype\": \"number\",\n        \"std\": 110.78081035323044,\n        \"min\": 0.0,\n        \"max\": 603.0,\n        \"num_unique_values\": 217,\n        \"samples\": [\n          384.0,\n          333.0\n        ],\n        \"semantic_type\": \"\",\n        \"description\": \"\"\n      }\n    },\n    {\n      \"column\": \"fbs\",\n      \"properties\": {\n        \"dtype\": \"category\",\n        \"num_unique_values\": 2,\n        \"samples\": [\n          false,\n          true\n        ],\n        \"semantic_type\": \"\",\n        \"description\": \"\"\n      }\n    },\n    {\n      \"column\": \"restecg\",\n      \"properties\": {\n        \"dtype\": \"category\",\n        \"num_unique_values\": 3,\n        \"samples\": [\n          \"lv hypertrophy\",\n          \"normal\"\n        ],\n        \"semantic_type\": \"\",\n        \"description\": \"\"\n      }\n    },\n    {\n      \"column\": \"thalch\",\n      \"properties\": {\n        \"dtype\": \"number\",\n        \"std\": 25.926276492797612,\n        \"min\": 60.0,\n        \"max\": 202.0,\n        \"num_unique_values\": 119,\n        \"samples\": [\n          185.0,\n          134.0\n        ],\n        \"semantic_type\": \"\",\n        \"description\": \"\"\n      }\n    },\n    {\n      \"column\": \"exang\",\n      \"properties\": {\n        \"dtype\": \"category\",\n        \"num_unique_values\": 2,\n        \"samples\": [\n          true,\n          false\n        ],\n        \"semantic_type\": \"\",\n        \"description\": \"\"\n      }\n    },\n    {\n      \"column\": \"oldpeak\",\n      \"properties\": {\n        \"dtype\": \"number\",\n        \"std\": 1.0912262483465265,\n        \"min\": -2.6,\n        \"max\": 6.2,\n        \"num_unique_values\": 53,\n        \"samples\": [\n          2.4,\n          -1.1\n        ],\n        \"semantic_type\": \"\",\n        \"description\": \"\"\n      }\n    },\n    {\n      \"column\": \"slope\",\n      \"properties\": {\n        \"dtype\": \"category\",\n        \"num_unique_values\": 3,\n        \"samples\": [\n          \"downsloping\",\n          \"flat\"\n        ],\n        \"semantic_type\": \"\",\n        \"description\": \"\"\n      }\n    },\n    {\n      \"column\": \"ca\",\n      \"properties\": {\n        \"dtype\": \"number\",\n        \"std\": 0.9356530125599879,\n        \"min\": 0.0,\n        \"max\": 3.0,\n        \"num_unique_values\": 4,\n        \"samples\": [\n          3.0,\n          1.0\n        ],\n        \"semantic_type\": \"\",\n        \"description\": \"\"\n      }\n    },\n    {\n      \"column\": \"thal\",\n      \"properties\": {\n        \"dtype\": \"category\",\n        \"num_unique_values\": 3,\n        \"samples\": [\n          \"fixed defect\",\n          \"normal\"\n        ],\n        \"semantic_type\": \"\",\n        \"description\": \"\"\n      }\n    },\n    {\n      \"column\": \"num\",\n      \"properties\": {\n        \"dtype\": \"number\",\n        \"std\": 1,\n        \"min\": 0,\n        \"max\": 4,\n        \"num_unique_values\": 5,\n        \"samples\": [\n          2,\n          4\n        ],\n        \"semantic_type\": \"\",\n        \"description\": \"\"\n      }\n    }\n  ]\n}"
            }
          },
          "metadata": {},
          "execution_count": 186
        }
      ]
    },
    {
      "cell_type": "code",
      "source": [
        "data.info()"
      ],
      "metadata": {
        "colab": {
          "base_uri": "https://localhost:8080/"
        },
        "id": "0Qq9YIhZGZdv",
        "outputId": "f7500daa-d1de-4460-8a2d-d6ffbc91add3"
      },
      "execution_count": 187,
      "outputs": [
        {
          "output_type": "stream",
          "name": "stdout",
          "text": [
            "<class 'pandas.core.frame.DataFrame'>\n",
            "RangeIndex: 920 entries, 0 to 919\n",
            "Data columns (total 16 columns):\n",
            " #   Column    Non-Null Count  Dtype  \n",
            "---  ------    --------------  -----  \n",
            " 0   id        920 non-null    int64  \n",
            " 1   age       920 non-null    int64  \n",
            " 2   sex       920 non-null    object \n",
            " 3   dataset   920 non-null    object \n",
            " 4   cp        920 non-null    object \n",
            " 5   trestbps  861 non-null    float64\n",
            " 6   chol      890 non-null    float64\n",
            " 7   fbs       830 non-null    object \n",
            " 8   restecg   918 non-null    object \n",
            " 9   thalch    865 non-null    float64\n",
            " 10  exang     865 non-null    object \n",
            " 11  oldpeak   858 non-null    float64\n",
            " 12  slope     611 non-null    object \n",
            " 13  ca        309 non-null    float64\n",
            " 14  thal      434 non-null    object \n",
            " 15  num       920 non-null    int64  \n",
            "dtypes: float64(5), int64(3), object(8)\n",
            "memory usage: 115.1+ KB\n"
          ]
        }
      ]
    },
    {
      "cell_type": "markdown",
      "source": [
        "# **Data cleaning and preprocessing**"
      ],
      "metadata": {
        "id": "v5IzHy1LGcim"
      }
    },
    {
      "cell_type": "code",
      "source": [
        "\n",
        "missing_values = data.isnull().sum()\n",
        "\n",
        "\n",
        "print(missing_values)"
      ],
      "metadata": {
        "colab": {
          "base_uri": "https://localhost:8080/"
        },
        "id": "ojz0nHJIGgMS",
        "outputId": "4b587fe1-026e-47d5-896a-957872832aaf"
      },
      "execution_count": 188,
      "outputs": [
        {
          "output_type": "stream",
          "name": "stdout",
          "text": [
            "id            0\n",
            "age           0\n",
            "sex           0\n",
            "dataset       0\n",
            "cp            0\n",
            "trestbps     59\n",
            "chol         30\n",
            "fbs          90\n",
            "restecg       2\n",
            "thalch       55\n",
            "exang        55\n",
            "oldpeak      62\n",
            "slope       309\n",
            "ca          611\n",
            "thal        486\n",
            "num           0\n",
            "dtype: int64\n"
          ]
        }
      ]
    },
    {
      "cell_type": "markdown",
      "source": [
        "BEFORE MISSING VALUES"
      ],
      "metadata": {
        "id": "8eEDk-92INzz"
      }
    },
    {
      "cell_type": "code",
      "source": [
        "numerical_features = data.select_dtypes(include=['number'])\n",
        "\n",
        "for column in numerical_features.columns:\n",
        "    if column != 'id': # Exclude 'id' column from box plot\n",
        "        plt.figure(figsize=(8, 6))\n",
        "        sns.boxplot(x=data[column])\n",
        "        plt.title(f'Box Plot of {column}')\n",
        "        plt.xlabel(column)\n",
        "        plt.tight_layout()\n",
        "        plt.show()"
      ],
      "metadata": {
        "colab": {
          "base_uri": "https://localhost:8080/",
          "height": 1000
        },
        "id": "hSK1Je4aGtnL",
        "outputId": "cfbf7872-5519-40fb-e6e1-5f65a5cf752f"
      },
      "execution_count": 189,
      "outputs": [
        {
          "output_type": "display_data",
          "data": {
            "text/plain": [
              "<Figure size 800x600 with 1 Axes>"
            ],
            "image/png": "[encoded data removed]"
          },
          "metadata": {}
        },
        {
          "output_type": "display_data",
          "data": {
            "text/plain": [
              "<Figure size 800x600 with 1 Axes>"
            ],
            "image/png": "[encoded data removed]"
          },
          "metadata": {}
        },
        {
          "output_type": "display_data",
          "data": {
            "text/plain": [
              "<Figure size 800x600 with 1 Axes>"
            ],
            "image/png": "[encoded data removed]"
          },
          "metadata": {}
        },
        {
          "output_type": "display_data",
          "data": {
            "text/plain": [
              "<Figure size 800x600 with 1 Axes>"
            ],
            "image/png": "[encoded data removed]"
          },
          "metadata": {}
        },
        {
          "output_type": "display_data",
          "data": {
            "text/plain": [
              "<Figure size 800x600 with 1 Axes>"
            ],
            "image/png": "[encoded data removed]"
          },
          "metadata": {}
        },
        {
          "output_type": "display_data",
          "data": {
            "text/plain": [
              "<Figure size 800x600 with 1 Axes>"
            ],
            "image/png": "[encoded data removed]"
          },
          "metadata": {}
        },
        {
          "output_type": "display_data",
          "data": {
            "text/plain": [
              "<Figure size 800x600 with 1 Axes>"
            ],
            "image/png": "[encoded data removed]"
          },
          "metadata": {}
        }
      ]
    },
    {
      "cell_type": "code",
      "source": [
        "def remove_outliers_iqr(data, column):\n",
        "    \"\"\"Removes outliers from a pandas DataFrame column using the IQR method.\n",
        "\n",
        "    Args:\n",
        "        data: pandas DataFrame.\n",
        "        column: Name of the column to remove outliers from.\n",
        "\n",
        "    Returns:\n",
        "        pandas DataFrame with outliers removed.\n",
        "    \"\"\"\n",
        "\n",
        "    Q1 = data[column].quantile(0.25)\n",
        "    Q3 = data[column].quantile(0.75)\n",
        "    IQR = Q3 - Q1\n",
        "    lower_bound = Q1 - 1.5 * IQR\n",
        "    upper_bound = Q3 + 1.5 * IQR\n",
        "\n",
        "    data_filtered = data[(data[column] >= lower_bound) & (data[column] <= upper_bound)]\n",
        "    return data_filtered\n",
        "\n",
        "\n",
        "numerical_features = data.select_dtypes(include=['number'])\n",
        "\n",
        "for column in numerical_features.columns:\n",
        "  if column != 'id': # Exclude 'id' column from outlier removal\n",
        "    data = remove_outliers_iqr(data, column)"
      ],
      "metadata": {
        "id": "3RwiDpQ1G3Fy"
      },
      "execution_count": 190,
      "outputs": []
    },
    {
      "cell_type": "markdown",
      "source": [
        "After missing values"
      ],
      "metadata": {
        "id": "asdWUPYvIRSz"
      }
    },
    {
      "cell_type": "code",
      "source": [
        "numerical_features = data.select_dtypes(include=['number'])\n",
        "\n",
        "\n",
        "for column in numerical_features.columns:\n",
        "  if column != 'id': # Exclude 'id' column from box plot\n",
        "    plt.figure(figsize=(8, 6))\n",
        "    sns.boxplot(x=data[column])\n",
        "    plt.title(f'Box Plot of {column}')\n",
        "    plt.xlabel(column)\n",
        "    plt.show()"
      ],
      "metadata": {
        "colab": {
          "base_uri": "https://localhost:8080/",
          "height": 1000
        },
        "id": "Mvjt6yH3HAx8",
        "outputId": "f74a1f37-a996-415c-c497-5760685c5e26"
      },
      "execution_count": 191,
      "outputs": [
        {
          "output_type": "display_data",
          "data": {
            "text/plain": [
              "<Figure size 800x600 with 1 Axes>"
            ],
            "image/png": "[encoded data removed]"
          },
          "metadata": {}
        },
        {
          "output_type": "display_data",
          "data": {
            "text/plain": [
              "<Figure size 800x600 with 1 Axes>"
            ],
            "image/png": "[encoded data removed]"
          },
          "metadata": {}
        },
        {
          "output_type": "display_data",
          "data": {
            "text/plain": [
              "<Figure size 800x600 with 1 Axes>"
            ],
            "image/png": "[encoded data removed]"
          },
          "metadata": {}
        },
        {
          "output_type": "display_data",
          "data": {
            "text/plain": [
              "<Figure size 800x600 with 1 Axes>"
            ],
            "image/png": "[encoded data removed]"
          },
          "metadata": {}
        },
        {
          "output_type": "display_data",
          "data": {
            "text/plain": [
              "<Figure size 800x600 with 1 Axes>"
            ],
            "image/png": "[encoded data removed]"
          },
          "metadata": {}
        },
        {
          "output_type": "display_data",
          "data": {
            "text/plain": [
              "<Figure size 800x600 with 1 Axes>"
            ],
            "image/png": "[encoded data removed]"
          },
          "metadata": {}
        },
        {
          "output_type": "display_data",
          "data": {
            "text/plain": [
              "<Figure size 800x600 with 1 Axes>"
            ],
            "image/png": "[encoded data removed]"
          },
          "metadata": {}
        }
      ]
    },
    {
      "cell_type": "code",
      "source": [
        "\n",
        "missing_values = data.isnull().sum()\n",
        "\n",
        "\n",
        "print(missing_values)"
      ],
      "metadata": {
        "colab": {
          "base_uri": "https://localhost:8080/"
        },
        "id": "uFK4ClpdHQ7K",
        "outputId": "7d00814c-7a96-41f5-9ed6-8eaf79bc91f1"
      },
      "execution_count": 192,
      "outputs": [
        {
          "output_type": "stream",
          "name": "stdout",
          "text": [
            "id          0\n",
            "age         0\n",
            "sex         0\n",
            "dataset     0\n",
            "cp          0\n",
            "trestbps    0\n",
            "chol        0\n",
            "fbs         0\n",
            "restecg     0\n",
            "thalch      0\n",
            "exang       0\n",
            "oldpeak     0\n",
            "slope       1\n",
            "ca          0\n",
            "thal        3\n",
            "num         0\n",
            "dtype: int64\n"
          ]
        }
      ]
    },
    {
      "cell_type": "code",
      "source": [
        "#finding mode value for slope\n",
        "mode_val=data['slope'].value_counts()\n",
        "\n",
        "#replacing null with mode value\n",
        "data = data.fillna({\"slope\": mode_val[0]})\n",
        "\n",
        "#finding mode value for slope\n",
        "mode_val=data['thal'].value_counts()\n",
        "\n",
        "#replacing null with mode value\n",
        "data = data.fillna({\"thal\": mode_val[0]})"
      ],
      "metadata": {
        "colab": {
          "base_uri": "https://localhost:8080/"
        },
        "id": "k-2aqySlHtjx",
        "outputId": "e460c5ed-ea9d-4f6a-81fe-38d46b80ce2b"
      },
      "execution_count": 193,
      "outputs": [
        {
          "output_type": "stream",
          "name": "stderr",
          "text": [
            "/tmp/ipython-input-1652209332.py:5: FutureWarning: Series.__getitem__ treating keys as positions is deprecated. In a future version, integer keys will always be treated as labels (consistent with DataFrame behavior). To access a value by position, use `ser.iloc[pos]`\n",
            "  data = data.fillna({\"slope\": mode_val[0]})\n",
            "/tmp/ipython-input-1652209332.py:11: FutureWarning: Series.__getitem__ treating keys as positions is deprecated. In a future version, integer keys will always be treated as labels (consistent with DataFrame behavior). To access a value by position, use `ser.iloc[pos]`\n",
            "  data = data.fillna({\"thal\": mode_val[0]})\n"
          ]
        }
      ]
    },
    {
      "cell_type": "code",
      "source": [
        "missing_values = data.isnull().sum()\n",
        "\n",
        "\n",
        "print(missing_values)"
      ],
      "metadata": {
        "colab": {
          "base_uri": "https://localhost:8080/"
        },
        "id": "hMoplcpBILDV",
        "outputId": "6650bb1e-ecf4-43fd-b2bc-3622edab4bcb"
      },
      "execution_count": 194,
      "outputs": [
        {
          "output_type": "stream",
          "name": "stdout",
          "text": [
            "id          0\n",
            "age         0\n",
            "sex         0\n",
            "dataset     0\n",
            "cp          0\n",
            "trestbps    0\n",
            "chol        0\n",
            "fbs         0\n",
            "restecg     0\n",
            "thalch      0\n",
            "exang       0\n",
            "oldpeak     0\n",
            "slope       0\n",
            "ca          0\n",
            "thal        0\n",
            "num         0\n",
            "dtype: int64\n"
          ]
        }
      ]
    },
    {
      "cell_type": "code",
      "source": [
        "# Dictionary to store mapping info\n",
        "mapping_info = {}\n",
        "\n",
        "# Loop through categorical columns\n",
        "for col in data.select_dtypes(include=['object', 'category']).columns:\n",
        "    unique_vals = data[col].unique()\n",
        "    mapping_dict = {value: idx for idx, value in enumerate(unique_vals)}\n",
        "    data[col] = data[col].map(mapping_dict)\n",
        "    mapping_info[col] = {\n",
        "        'mapping': mapping_dict,\n",
        "        'unique_values': list(unique_vals)\n",
        "    }\n",
        "\n",
        "# Optional: Fill NaN values with a placeholder (e.g., -1)\n",
        "data = data.fillna(-1)\n",
        "\n",
        "# Print mapping info\n",
        "for col, info in mapping_info.items():\n",
        "    print(f\"\\nColumn: {col}\")\n",
        "    print(\"Mapping:\", info['mapping'])\n",
        "    print(\"Original Values:\", info['unique_values'])\n",
        "\n"
      ],
      "metadata": {
        "colab": {
          "base_uri": "https://localhost:8080/"
        },
        "id": "vX9seV4ZJfRl",
        "outputId": "3de5621c-138d-45cf-b80c-79a031b9c38a"
      },
      "execution_count": 195,
      "outputs": [
        {
          "output_type": "stream",
          "name": "stdout",
          "text": [
            "\n",
            "Column: sex\n",
            "Mapping: {'Male': 0, 'Female': 1}\n",
            "Original Values: ['Male', 'Female']\n",
            "\n",
            "Column: dataset\n",
            "Mapping: {'Cleveland': 0, 'Hungary': 1, 'VA Long Beach': 2}\n",
            "Original Values: ['Cleveland', 'Hungary', 'VA Long Beach']\n",
            "\n",
            "Column: cp\n",
            "Mapping: {'typical angina': 0, 'asymptomatic': 1, 'non-anginal': 2, 'atypical angina': 3}\n",
            "Original Values: ['typical angina', 'asymptomatic', 'non-anginal', 'atypical angina']\n",
            "\n",
            "Column: fbs\n",
            "Mapping: {True: 0, False: 1}\n",
            "Original Values: [True, False]\n",
            "\n",
            "Column: restecg\n",
            "Mapping: {'lv hypertrophy': 0, 'normal': 1, 'st-t abnormality': 2}\n",
            "Original Values: ['lv hypertrophy', 'normal', 'st-t abnormality']\n",
            "\n",
            "Column: exang\n",
            "Mapping: {False: 0, True: 1}\n",
            "Original Values: [False, True]\n",
            "\n",
            "Column: slope\n",
            "Mapping: {'downsloping': 0, 'flat': 1, 'upsloping': 2, 125: 3}\n",
            "Original Values: ['downsloping', 'flat', 'upsloping', 125]\n",
            "\n",
            "Column: thal\n",
            "Mapping: {'fixed defect': 0, 'reversable defect': 1, 'normal': 2, 147: 3}\n",
            "Original Values: ['fixed defect', 'reversable defect', 'normal', 147]\n"
          ]
        }
      ]
    },
    {
      "cell_type": "code",
      "source": [
        "data.head()"
      ],
      "metadata": {
        "colab": {
          "base_uri": "https://localhost:8080/",
          "height": 206
        },
        "id": "dWAwOnDsJg2M",
        "outputId": "53af42b6-bcc7-450c-8cdb-bd3bf8fe58f9"
      },
      "execution_count": 196,
      "outputs": [
        {
          "output_type": "execute_result",
          "data": {
            "text/plain": [
              "   id  age  sex  dataset  cp  trestbps   chol  fbs  restecg  thalch  exang  \\\n",
              "0   1   63    0        0   0     145.0  233.0    0        0   150.0      0   \n",
              "2   3   67    0        0   1     120.0  229.0    1        0   129.0      1   \n",
              "3   4   37    0        0   2     130.0  250.0    1        1   187.0      0   \n",
              "4   5   41    1        0   3     130.0  204.0    1        0   172.0      0   \n",
              "5   6   56    0        0   3     120.0  236.0    1        1   178.0      0   \n",
              "\n",
              "   oldpeak  slope   ca  thal  num  \n",
              "0      2.3      0  0.0     0    0  \n",
              "2      2.6      1  2.0     1    1  \n",
              "3      3.5      0  0.0     2    0  \n",
              "4      1.4      2  0.0     2    0  \n",
              "5      0.8      2  0.0     2    0  "
            ],
            "text/html": [
              "\n",
              "  <div id=\"df-0e337a4a-af06-49f0-a986-a9112d8bdc75\" class=\"colab-df-container\">\n",
              "    <div>\n",
              "<style scoped>\n",
              "    .dataframe tbody tr th:only-of-type {\n",
              "        vertical-align: middle;\n",
              "    }\n",
              "\n",
              "    .dataframe tbody tr th {\n",
              "        vertical-align: top;\n",
              "    }\n",
              "\n",
              "    .dataframe thead th {\n",
              "        text-align: right;\n",
              "    }\n",
              "</style>\n",
              "<table border=\"1\" class=\"dataframe\">\n",
              "  <thead>\n",
              "    <tr style=\"text-align: right;\">\n",
              "      <th></th>\n",
              "      <th>id</th>\n",
              "      <th>age</th>\n",
              "      <th>sex</th>\n",
              "      <th>dataset</th>\n",
              "      <th>cp</th>\n",
              "      <th>trestbps</th>\n",
              "      <th>chol</th>\n",
              "      <th>fbs</th>\n",
              "      <th>restecg</th>\n",
              "      <th>thalch</th>\n",
              "      <th>exang</th>\n",
              "      <th>oldpeak</th>\n",
              "      <th>slope</th>\n",
              "      <th>ca</th>\n",
              "      <th>thal</th>\n",
              "      <th>num</th>\n",
              "    </tr>\n",
              "  </thead>\n",
              "  <tbody>\n",
              "    <tr>\n",
              "      <th>0</th>\n",
              "      <td>1</td>\n",
              "      <td>63</td>\n",
              "      <td>0</td>\n",
              "      <td>0</td>\n",
              "      <td>0</td>\n",
              "      <td>145.0</td>\n",
              "      <td>233.0</td>\n",
              "      <td>0</td>\n",
              "      <td>0</td>\n",
              "      <td>150.0</td>\n",
              "      <td>0</td>\n",
              "      <td>2.3</td>\n",
              "      <td>0</td>\n",
              "      <td>0.0</td>\n",
              "      <td>0</td>\n",
              "      <td>0</td>\n",
              "    </tr>\n",
              "    <tr>\n",
              "      <th>2</th>\n",
              "      <td>3</td>\n",
              "      <td>67</td>\n",
              "      <td>0</td>\n",
              "      <td>0</td>\n",
              "      <td>1</td>\n",
              "      <td>120.0</td>\n",
              "      <td>229.0</td>\n",
              "      <td>1</td>\n",
              "      <td>0</td>\n",
              "      <td>129.0</td>\n",
              "      <td>1</td>\n",
              "      <td>2.6</td>\n",
              "      <td>1</td>\n",
              "      <td>2.0</td>\n",
              "      <td>1</td>\n",
              "      <td>1</td>\n",
              "    </tr>\n",
              "    <tr>\n",
              "      <th>3</th>\n",
              "      <td>4</td>\n",
              "      <td>37</td>\n",
              "      <td>0</td>\n",
              "      <td>0</td>\n",
              "      <td>2</td>\n",
              "      <td>130.0</td>\n",
              "      <td>250.0</td>\n",
              "      <td>1</td>\n",
              "      <td>1</td>\n",
              "      <td>187.0</td>\n",
              "      <td>0</td>\n",
              "      <td>3.5</td>\n",
              "      <td>0</td>\n",
              "      <td>0.0</td>\n",
              "      <td>2</td>\n",
              "      <td>0</td>\n",
              "    </tr>\n",
              "    <tr>\n",
              "      <th>4</th>\n",
              "      <td>5</td>\n",
              "      <td>41</td>\n",
              "      <td>1</td>\n",
              "      <td>0</td>\n",
              "      <td>3</td>\n",
              "      <td>130.0</td>\n",
              "      <td>204.0</td>\n",
              "      <td>1</td>\n",
              "      <td>0</td>\n",
              "      <td>172.0</td>\n",
              "      <td>0</td>\n",
              "      <td>1.4</td>\n",
              "      <td>2</td>\n",
              "      <td>0.0</td>\n",
              "      <td>2</td>\n",
              "      <td>0</td>\n",
              "    </tr>\n",
              "    <tr>\n",
              "      <th>5</th>\n",
              "      <td>6</td>\n",
              "      <td>56</td>\n",
              "      <td>0</td>\n",
              "      <td>0</td>\n",
              "      <td>3</td>\n",
              "      <td>120.0</td>\n",
              "      <td>236.0</td>\n",
              "      <td>1</td>\n",
              "      <td>1</td>\n",
              "      <td>178.0</td>\n",
              "      <td>0</td>\n",
              "      <td>0.8</td>\n",
              "      <td>2</td>\n",
              "      <td>0.0</td>\n",
              "      <td>2</td>\n",
              "      <td>0</td>\n",
              "    </tr>\n",
              "  </tbody>\n",
              "</table>\n",
              "</div>\n",
              "    <div class=\"colab-df-buttons\">\n",
              "\n",
              "  <div class=\"colab-df-container\">\n",
              "    <button class=\"colab-df-convert\" onclick=\"convertToInteractive('df-0e337a4a-af06-49f0-a986-a9112d8bdc75')\"\n",
              "            title=\"Convert this dataframe to an interactive table.\"\n",
              "            style=\"display:none;\">\n",
              "\n",
              "  <svg xmlns=\"http://www.w3.org/2000/svg\" height=\"24px\" viewBox=\"0 -960 960 960\">\n",
              "    <path d=\"M120-120v-720h720v720H120Zm60-500h600v-160H180v160Zm220 220h160v-160H400v160Zm0 220h160v-160H400v160ZM180-400h160v-160H180v160Zm440 0h160v-160H620v160ZM180-180h160v-160H180v160Zm440 0h160v-160H620v160Z\"/>\n",
              "  </svg>\n",
              "    </button>\n",
              "\n",
              "  <style>\n",
              "    .colab-df-container {\n",
              "      display:flex;\n",
              "      gap: 12px;\n",
              "    }\n",
              "\n",
              "    .colab-df-convert {\n",
              "      background-color: #E8F0FE;\n",
              "      border: none;\n",
              "      border-radius: 50%;\n",
              "      cursor: pointer;\n",
              "      display: none;\n",
              "      fill: #1967D2;\n",
              "      height: 32px;\n",
              "      padding: 0 0 0 0;\n",
              "      width: 32px;\n",
              "    }\n",
              "\n",
              "    .colab-df-convert:hover {\n",
              "      background-color: #E2EBFA;\n",
              "      box-shadow: 0px 1px 2px rgba(60, 64, 67, 0.3), 0px 1px 3px 1px rgba(60, 64, 67, 0.15);\n",
              "      fill: #174EA6;\n",
              "    }\n",
              "\n",
              "    .colab-df-buttons div {\n",
              "      margin-bottom: 4px;\n",
              "    }\n",
              "\n",
              "    [theme=dark] .colab-df-convert {\n",
              "      background-color: #3B4455;\n",
              "      fill: #D2E3FC;\n",
              "    }\n",
              "\n",
              "    [theme=dark] .colab-df-convert:hover {\n",
              "      background-color: #434B5C;\n",
              "      box-shadow: 0px 1px 3px 1px rgba(0, 0, 0, 0.15);\n",
              "      filter: drop-shadow(0px 1px 2px rgba(0, 0, 0, 0.3));\n",
              "      fill: #FFFFFF;\n",
              "    }\n",
              "  </style>\n",
              "\n",
              "    <script>\n",
              "      const buttonEl =\n",
              "        document.querySelector('#df-0e337a4a-af06-49f0-a986-a9112d8bdc75 button.colab-df-convert');\n",
              "      buttonEl.style.display =\n",
              "        google.colab.kernel.accessAllowed ? 'block' : 'none';\n",
              "\n",
              "      async function convertToInteractive(key) {\n",
              "        const element = document.querySelector('#df-0e337a4a-af06-49f0-a986-a9112d8bdc75');\n",
              "        const dataTable =\n",
              "          await google.colab.kernel.invokeFunction('convertToInteractive',\n",
              "                                                    [key], {});\n",
              "        if (!dataTable) return;\n",
              "\n",
              "        const docLinkHtml = 'Like what you see? Visit the ' +\n",
              "          '<a target=\"_blank\" href=https://colab.research.google.com/notebooks/data_table.ipynb>data table notebook</a>'\n",
              "          + ' to learn more about interactive tables.';\n",
              "        element.innerHTML = '';\n",
              "        dataTable['output_type'] = 'display_data';\n",
              "        await google.colab.output.renderOutput(dataTable, element);\n",
              "        const docLink = document.createElement('div');\n",
              "        docLink.innerHTML = docLinkHtml;\n",
              "        element.appendChild(docLink);\n",
              "      }\n",
              "    </script>\n",
              "  </div>\n",
              "\n",
              "\n",
              "    <div id=\"df-95300bec-ecde-4f8e-8869-1b66a6af5094\">\n",
              "      <button class=\"colab-df-quickchart\" onclick=\"quickchart('df-95300bec-ecde-4f8e-8869-1b66a6af5094')\"\n",
              "                title=\"Suggest charts\"\n",
              "                style=\"display:none;\">\n",
              "\n",
              "<svg xmlns=\"http://www.w3.org/2000/svg\" height=\"24px\"viewBox=\"0 0 24 24\"\n",
              "     width=\"24px\">\n",
              "    <g>\n",
              "        <path d=\"M19 3H5c-1.1 0-2 .9-2 2v14c0 1.1.9 2 2 2h14c1.1 0 2-.9 2-2V5c0-1.1-.9-2-2-2zM9 17H7v-7h2v7zm4 0h-2V7h2v10zm4 0h-2v-4h2v4z\"/>\n",
              "    </g>\n",
              "</svg>\n",
              "      </button>\n",
              "\n",
              "<style>\n",
              "  .colab-df-quickchart {\n",
              "      --bg-color: #E8F0FE;\n",
              "      --fill-color: #1967D2;\n",
              "      --hover-bg-color: #E2EBFA;\n",
              "      --hover-fill-color: #174EA6;\n",
              "      --disabled-fill-color: #AAA;\n",
              "      --disabled-bg-color: #DDD;\n",
              "  }\n",
              "\n",
              "  [theme=dark] .colab-df-quickchart {\n",
              "      --bg-color: #3B4455;\n",
              "      --fill-color: #D2E3FC;\n",
              "      --hover-bg-color: #434B5C;\n",
              "      --hover-fill-color: #FFFFFF;\n",
              "      --disabled-bg-color: #3B4455;\n",
              "      --disabled-fill-color: #666;\n",
              "  }\n",
              "\n",
              "  .colab-df-quickchart {\n",
              "    background-color: var(--bg-color);\n",
              "    border: none;\n",
              "    border-radius: 50%;\n",
              "    cursor: pointer;\n",
              "    display: none;\n",
              "    fill: var(--fill-color);\n",
              "    height: 32px;\n",
              "    padding: 0;\n",
              "    width: 32px;\n",
              "  }\n",
              "\n",
              "  .colab-df-quickchart:hover {\n",
              "    background-color: var(--hover-bg-color);\n",
              "    box-shadow: 0 1px 2px rgba(60, 64, 67, 0.3), 0 1px 3px 1px rgba(60, 64, 67, 0.15);\n",
              "    fill: var(--button-hover-fill-color);\n",
              "  }\n",
              "\n",
              "  .colab-df-quickchart-complete:disabled,\n",
              "  .colab-df-quickchart-complete:disabled:hover {\n",
              "    background-color: var(--disabled-bg-color);\n",
              "    fill: var(--disabled-fill-color);\n",
              "    box-shadow: none;\n",
              "  }\n",
              "\n",
              "  .colab-df-spinner {\n",
              "    border: 2px solid var(--fill-color);\n",
              "    border-color: transparent;\n",
              "    border-bottom-color: var(--fill-color);\n",
              "    animation:\n",
              "      spin 1s steps(1) infinite;\n",
              "  }\n",
              "\n",
              "  @keyframes spin {\n",
              "    0% {\n",
              "      border-color: transparent;\n",
              "      border-bottom-color: var(--fill-color);\n",
              "      border-left-color: var(--fill-color);\n",
              "    }\n",
              "    20% {\n",
              "      border-color: transparent;\n",
              "      border-left-color: var(--fill-color);\n",
              "      border-top-color: var(--fill-color);\n",
              "    }\n",
              "    30% {\n",
              "      border-color: transparent;\n",
              "      border-left-color: var(--fill-color);\n",
              "      border-top-color: var(--fill-color);\n",
              "      border-right-color: var(--fill-color);\n",
              "    }\n",
              "    40% {\n",
              "      border-color: transparent;\n",
              "      border-right-color: var(--fill-color);\n",
              "      border-top-color: var(--fill-color);\n",
              "    }\n",
              "    60% {\n",
              "      border-color: transparent;\n",
              "      border-right-color: var(--fill-color);\n",
              "    }\n",
              "    80% {\n",
              "      border-color: transparent;\n",
              "      border-right-color: var(--fill-color);\n",
              "      border-bottom-color: var(--fill-color);\n",
              "    }\n",
              "    90% {\n",
              "      border-color: transparent;\n",
              "      border-bottom-color: var(--fill-color);\n",
              "    }\n",
              "  }\n",
              "</style>\n",
              "\n",
              "      <script>\n",
              "        async function quickchart(key) {\n",
              "          const quickchartButtonEl =\n",
              "            document.querySelector('#' + key + ' button');\n",
              "          quickchartButtonEl.disabled = true;  // To prevent multiple clicks.\n",
              "          quickchartButtonEl.classList.add('colab-df-spinner');\n",
              "          try {\n",
              "            const charts = await google.colab.kernel.invokeFunction(\n",
              "                'suggestCharts', [key], {});\n",
              "          } catch (error) {\n",
              "            console.error('Error during call to suggestCharts:', error);\n",
              "          }\n",
              "          quickchartButtonEl.classList.remove('colab-df-spinner');\n",
              "          quickchartButtonEl.classList.add('colab-df-quickchart-complete');\n",
              "        }\n",
              "        (() => {\n",
              "          let quickchartButtonEl =\n",
              "            document.querySelector('#df-95300bec-ecde-4f8e-8869-1b66a6af5094 button');\n",
              "          quickchartButtonEl.style.display =\n",
              "            google.colab.kernel.accessAllowed ? 'block' : 'none';\n",
              "        })();\n",
              "      </script>\n",
              "    </div>\n",
              "\n",
              "    </div>\n",
              "  </div>\n"
            ],
            "application/vnd.google.colaboratory.intrinsic+json": {
              "type": "dataframe",
              "variable_name": "data",
              "summary": "{\n  \"name\": \"data\",\n  \"rows\": 234,\n  \"fields\": [\n    {\n      \"column\": \"id\",\n      \"properties\": {\n        \"dtype\": \"number\",\n        \"std\": 101,\n        \"min\": 1,\n        \"max\": 749,\n        \"num_unique_values\": 234,\n        \"samples\": [\n          86,\n          272,\n          243\n        ],\n        \"semantic_type\": \"\",\n        \"description\": \"\"\n      }\n    },\n    {\n      \"column\": \"age\",\n      \"properties\": {\n        \"dtype\": \"number\",\n        \"std\": 9,\n        \"min\": 29,\n        \"max\": 76,\n        \"num_unique_values\": 39,\n        \"samples\": [\n          29,\n          74,\n          56\n        ],\n        \"semantic_type\": \"\",\n        \"description\": \"\"\n      }\n    },\n    {\n      \"column\": \"sex\",\n      \"properties\": {\n        \"dtype\": \"number\",\n        \"std\": 0,\n        \"min\": 0,\n        \"max\": 1,\n        \"num_unique_values\": 2,\n        \"samples\": [\n          1,\n          0\n        ],\n        \"semantic_type\": \"\",\n        \"description\": \"\"\n      }\n    },\n    {\n      \"column\": \"dataset\",\n      \"properties\": {\n        \"dtype\": \"number\",\n        \"std\": 0,\n        \"min\": 0,\n        \"max\": 2,\n        \"num_unique_values\": 3,\n        \"samples\": [\n          0,\n          1\n        ],\n        \"semantic_type\": \"\",\n        \"description\": \"\"\n      }\n    },\n    {\n      \"column\": \"cp\",\n      \"properties\": {\n        \"dtype\": \"number\",\n        \"std\": 0,\n        \"min\": 0,\n        \"max\": 3,\n        \"num_unique_values\": 4,\n        \"samples\": [\n          1,\n          3\n        ],\n        \"semantic_type\": \"\",\n        \"description\": \"\"\n      }\n    },\n    {\n      \"column\": \"trestbps\",\n      \"properties\": {\n        \"dtype\": \"number\",\n        \"std\": 15.40984601617824,\n        \"min\": 94.0,\n        \"max\": 170.0,\n        \"num_unique_values\": 40,\n        \"samples\": [\n          108.0,\n          104.0\n        ],\n        \"semantic_type\": \"\",\n        \"description\": \"\"\n      }\n    },\n    {\n      \"column\": \"chol\",\n      \"properties\": {\n        \"dtype\": \"number\",\n        \"std\": 45.6798146254588,\n        \"min\": 100.0,\n        \"max\": 394.0,\n        \"num_unique_values\": 128,\n        \"samples\": [\n          245.0,\n          213.0\n        ],\n        \"semantic_type\": \"\",\n        \"description\": \"\"\n      }\n    },\n    {\n      \"column\": \"fbs\",\n      \"properties\": {\n        \"dtype\": \"number\",\n        \"std\": 0,\n        \"min\": 0,\n        \"max\": 1,\n        \"num_unique_values\": 2,\n        \"samples\": [\n          1,\n          0\n        ],\n        \"semantic_type\": \"\",\n        \"description\": \"\"\n      }\n    },\n    {\n      \"column\": \"restecg\",\n      \"properties\": {\n        \"dtype\": \"number\",\n        \"std\": 0,\n        \"min\": 0,\n        \"max\": 2,\n        \"num_unique_values\": 3,\n        \"samples\": [\n          0,\n          1\n        ],\n        \"semantic_type\": \"\",\n        \"description\": \"\"\n      }\n    },\n    {\n      \"column\": \"thalch\",\n      \"properties\": {\n        \"dtype\": \"number\",\n        \"std\": 21.999461845347604,\n        \"min\": 71.0,\n        \"max\": 202.0,\n        \"num_unique_values\": 84,\n        \"samples\": [\n          103.0,\n          150.0\n        ],\n        \"semantic_type\": \"\",\n        \"description\": \"\"\n      }\n    },\n    {\n      \"column\": \"exang\",\n      \"properties\": {\n        \"dtype\": \"number\",\n        \"std\": 0,\n        \"min\": 0,\n        \"max\": 1,\n        \"num_unique_values\": 2,\n        \"samples\": [\n          1,\n          0\n        ],\n        \"semantic_type\": \"\",\n        \"description\": \"\"\n      }\n    },\n    {\n      \"column\": \"oldpeak\",\n      \"properties\": {\n        \"dtype\": \"number\",\n        \"std\": 0.9290868511727616,\n        \"min\": 0.0,\n        \"max\": 3.6,\n        \"num_unique_values\": 31,\n        \"samples\": [\n          2.0,\n          1.5\n        ],\n        \"semantic_type\": \"\",\n        \"description\": \"\"\n      }\n    },\n    {\n      \"column\": \"slope\",\n      \"properties\": {\n        \"dtype\": \"number\",\n        \"std\": 0,\n        \"min\": 0,\n        \"max\": 3,\n        \"num_unique_values\": 4,\n        \"samples\": [\n          1,\n          3\n        ],\n        \"semantic_type\": \"\",\n        \"description\": \"\"\n      }\n    },\n    {\n      \"column\": \"ca\",\n      \"properties\": {\n        \"dtype\": \"number\",\n        \"std\": 0.6413139001921415,\n        \"min\": 0.0,\n        \"max\": 2.0,\n        \"num_unique_values\": 3,\n        \"samples\": [\n          0.0,\n          2.0\n        ],\n        \"semantic_type\": \"\",\n        \"description\": \"\"\n      }\n    },\n    {\n      \"column\": \"thal\",\n      \"properties\": {\n        \"dtype\": \"number\",\n        \"std\": 0,\n        \"min\": 0,\n        \"max\": 3,\n        \"num_unique_values\": 4,\n        \"samples\": [\n          1,\n          3\n        ],\n        \"semantic_type\": \"\",\n        \"description\": \"\"\n      }\n    },\n    {\n      \"column\": \"num\",\n      \"properties\": {\n        \"dtype\": \"number\",\n        \"std\": 0,\n        \"min\": 0,\n        \"max\": 2,\n        \"num_unique_values\": 3,\n        \"samples\": [\n          0,\n          1\n        ],\n        \"semantic_type\": \"\",\n        \"description\": \"\"\n      }\n    }\n  ]\n}"
            }
          },
          "metadata": {},
          "execution_count": 196
        }
      ]
    },
    {
      "cell_type": "code",
      "source": [
        "data.drop(columns=['id'], inplace=True)"
      ],
      "metadata": {
        "id": "SEPc1q9RKhXE"
      },
      "execution_count": 197,
      "outputs": []
    },
    {
      "cell_type": "code",
      "source": [
        "data.head()"
      ],
      "metadata": {
        "colab": {
          "base_uri": "https://localhost:8080/",
          "height": 206
        },
        "id": "2kIM6XmuKkqx",
        "outputId": "e28da611-cae8-4e3a-83de-06cfdd48cef4"
      },
      "execution_count": 198,
      "outputs": [
        {
          "output_type": "execute_result",
          "data": {
            "text/plain": [
              "   age  sex  dataset  cp  trestbps   chol  fbs  restecg  thalch  exang  \\\n",
              "0   63    0        0   0     145.0  233.0    0        0   150.0      0   \n",
              "2   67    0        0   1     120.0  229.0    1        0   129.0      1   \n",
              "3   37    0        0   2     130.0  250.0    1        1   187.0      0   \n",
              "4   41    1        0   3     130.0  204.0    1        0   172.0      0   \n",
              "5   56    0        0   3     120.0  236.0    1        1   178.0      0   \n",
              "\n",
              "   oldpeak  slope   ca  thal  num  \n",
              "0      2.3      0  0.0     0    0  \n",
              "2      2.6      1  2.0     1    1  \n",
              "3      3.5      0  0.0     2    0  \n",
              "4      1.4      2  0.0     2    0  \n",
              "5      0.8      2  0.0     2    0  "
            ],
            "text/html": [
              "\n",
              "  <div id=\"df-86aabd8f-59dd-4547-b0f6-28a6966f7b73\" class=\"colab-df-container\">\n",
              "    <div>\n",
              "<style scoped>\n",
              "    .dataframe tbody tr th:only-of-type {\n",
              "        vertical-align: middle;\n",
              "    }\n",
              "\n",
              "    .dataframe tbody tr th {\n",
              "        vertical-align: top;\n",
              "    }\n",
              "\n",
              "    .dataframe thead th {\n",
              "        text-align: right;\n",
              "    }\n",
              "</style>\n",
              "<table border=\"1\" class=\"dataframe\">\n",
              "  <thead>\n",
              "    <tr style=\"text-align: right;\">\n",
              "      <th></th>\n",
              "      <th>age</th>\n",
              "      <th>sex</th>\n",
              "      <th>dataset</th>\n",
              "      <th>cp</th>\n",
              "      <th>trestbps</th>\n",
              "      <th>chol</th>\n",
              "      <th>fbs</th>\n",
              "      <th>restecg</th>\n",
              "      <th>thalch</th>\n",
              "      <th>exang</th>\n",
              "      <th>oldpeak</th>\n",
              "      <th>slope</th>\n",
              "      <th>ca</th>\n",
              "      <th>thal</th>\n",
              "      <th>num</th>\n",
              "    </tr>\n",
              "  </thead>\n",
              "  <tbody>\n",
              "    <tr>\n",
              "      <th>0</th>\n",
              "      <td>63</td>\n",
              "      <td>0</td>\n",
              "      <td>0</td>\n",
              "      <td>0</td>\n",
              "      <td>145.0</td>\n",
              "      <td>233.0</td>\n",
              "      <td>0</td>\n",
              "      <td>0</td>\n",
              "      <td>150.0</td>\n",
              "      <td>0</td>\n",
              "      <td>2.3</td>\n",
              "      <td>0</td>\n",
              "      <td>0.0</td>\n",
              "      <td>0</td>\n",
              "      <td>0</td>\n",
              "    </tr>\n",
              "    <tr>\n",
              "      <th>2</th>\n",
              "      <td>67</td>\n",
              "      <td>0</td>\n",
              "      <td>0</td>\n",
              "      <td>1</td>\n",
              "      <td>120.0</td>\n",
              "      <td>229.0</td>\n",
              "      <td>1</td>\n",
              "      <td>0</td>\n",
              "      <td>129.0</td>\n",
              "      <td>1</td>\n",
              "      <td>2.6</td>\n",
              "      <td>1</td>\n",
              "      <td>2.0</td>\n",
              "      <td>1</td>\n",
              "      <td>1</td>\n",
              "    </tr>\n",
              "    <tr>\n",
              "      <th>3</th>\n",
              "      <td>37</td>\n",
              "      <td>0</td>\n",
              "      <td>0</td>\n",
              "      <td>2</td>\n",
              "      <td>130.0</td>\n",
              "      <td>250.0</td>\n",
              "      <td>1</td>\n",
              "      <td>1</td>\n",
              "      <td>187.0</td>\n",
              "      <td>0</td>\n",
              "      <td>3.5</td>\n",
              "      <td>0</td>\n",
              "      <td>0.0</td>\n",
              "      <td>2</td>\n",
              "      <td>0</td>\n",
              "    </tr>\n",
              "    <tr>\n",
              "      <th>4</th>\n",
              "      <td>41</td>\n",
              "      <td>1</td>\n",
              "      <td>0</td>\n",
              "      <td>3</td>\n",
              "      <td>130.0</td>\n",
              "      <td>204.0</td>\n",
              "      <td>1</td>\n",
              "      <td>0</td>\n",
              "      <td>172.0</td>\n",
              "      <td>0</td>\n",
              "      <td>1.4</td>\n",
              "      <td>2</td>\n",
              "      <td>0.0</td>\n",
              "      <td>2</td>\n",
              "      <td>0</td>\n",
              "    </tr>\n",
              "    <tr>\n",
              "      <th>5</th>\n",
              "      <td>56</td>\n",
              "      <td>0</td>\n",
              "      <td>0</td>\n",
              "      <td>3</td>\n",
              "      <td>120.0</td>\n",
              "      <td>236.0</td>\n",
              "      <td>1</td>\n",
              "      <td>1</td>\n",
              "      <td>178.0</td>\n",
              "      <td>0</td>\n",
              "      <td>0.8</td>\n",
              "      <td>2</td>\n",
              "      <td>0.0</td>\n",
              "      <td>2</td>\n",
              "      <td>0</td>\n",
              "    </tr>\n",
              "  </tbody>\n",
              "</table>\n",
              "</div>\n",
              "    <div class=\"colab-df-buttons\">\n",
              "\n",
              "  <div class=\"colab-df-container\">\n",
              "    <button class=\"colab-df-convert\" onclick=\"convertToInteractive('df-86aabd8f-59dd-4547-b0f6-28a6966f7b73')\"\n",
              "            title=\"Convert this dataframe to an interactive table.\"\n",
              "            style=\"display:none;\">\n",
              "\n",
              "  <svg xmlns=\"http://www.w3.org/2000/svg\" height=\"24px\" viewBox=\"0 -960 960 960\">\n",
              "    <path d=\"M120-120v-720h720v720H120Zm60-500h600v-160H180v160Zm220 220h160v-160H400v160Zm0 220h160v-160H400v160ZM180-400h160v-160H180v160Zm440 0h160v-160H620v160ZM180-180h160v-160H180v160Zm440 0h160v-160H620v160Z\"/>\n",
              "  </svg>\n",
              "    </button>\n",
              "\n",
              "  <style>\n",
              "    .colab-df-container {\n",
              "      display:flex;\n",
              "      gap: 12px;\n",
              "    }\n",
              "\n",
              "    .colab-df-convert {\n",
              "      background-color: #E8F0FE;\n",
              "      border: none;\n",
              "      border-radius: 50%;\n",
              "      cursor: pointer;\n",
              "      display: none;\n",
              "      fill: #1967D2;\n",
              "      height: 32px;\n",
              "      padding: 0 0 0 0;\n",
              "      width: 32px;\n",
              "    }\n",
              "\n",
              "    .colab-df-convert:hover {\n",
              "      background-color: #E2EBFA;\n",
              "      box-shadow: 0px 1px 2px rgba(60, 64, 67, 0.3), 0px 1px 3px 1px rgba(60, 64, 67, 0.15);\n",
              "      fill: #174EA6;\n",
              "    }\n",
              "\n",
              "    .colab-df-buttons div {\n",
              "      margin-bottom: 4px;\n",
              "    }\n",
              "\n",
              "    [theme=dark] .colab-df-convert {\n",
              "      background-color: #3B4455;\n",
              "      fill: #D2E3FC;\n",
              "    }\n",
              "\n",
              "    [theme=dark] .colab-df-convert:hover {\n",
              "      background-color: #434B5C;\n",
              "      box-shadow: 0px 1px 3px 1px rgba(0, 0, 0, 0.15);\n",
              "      filter: drop-shadow(0px 1px 2px rgba(0, 0, 0, 0.3));\n",
              "      fill: #FFFFFF;\n",
              "    }\n",
              "  </style>\n",
              "\n",
              "    <script>\n",
              "      const buttonEl =\n",
              "        document.querySelector('#df-86aabd8f-59dd-4547-b0f6-28a6966f7b73 button.colab-df-convert');\n",
              "      buttonEl.style.display =\n",
              "        google.colab.kernel.accessAllowed ? 'block' : 'none';\n",
              "\n",
              "      async function convertToInteractive(key) {\n",
              "        const element = document.querySelector('#df-86aabd8f-59dd-4547-b0f6-28a6966f7b73');\n",
              "        const dataTable =\n",
              "          await google.colab.kernel.invokeFunction('convertToInteractive',\n",
              "                                                    [key], {});\n",
              "        if (!dataTable) return;\n",
              "\n",
              "        const docLinkHtml = 'Like what you see? Visit the ' +\n",
              "          '<a target=\"_blank\" href=https://colab.research.google.com/notebooks/data_table.ipynb>data table notebook</a>'\n",
              "          + ' to learn more about interactive tables.';\n",
              "        element.innerHTML = '';\n",
              "        dataTable['output_type'] = 'display_data';\n",
              "        await google.colab.output.renderOutput(dataTable, element);\n",
              "        const docLink = document.createElement('div');\n",
              "        docLink.innerHTML = docLinkHtml;\n",
              "        element.appendChild(docLink);\n",
              "      }\n",
              "    </script>\n",
              "  </div>\n",
              "\n",
              "\n",
              "    <div id=\"df-b16438d2-9a4c-4c8a-8d0c-63ee92dfcdc6\">\n",
              "      <button class=\"colab-df-quickchart\" onclick=\"quickchart('df-b16438d2-9a4c-4c8a-8d0c-63ee92dfcdc6')\"\n",
              "                title=\"Suggest charts\"\n",
              "                style=\"display:none;\">\n",
              "\n",
              "<svg xmlns=\"http://www.w3.org/2000/svg\" height=\"24px\"viewBox=\"0 0 24 24\"\n",
              "     width=\"24px\">\n",
              "    <g>\n",
              "        <path d=\"M19 3H5c-1.1 0-2 .9-2 2v14c0 1.1.9 2 2 2h14c1.1 0 2-.9 2-2V5c0-1.1-.9-2-2-2zM9 17H7v-7h2v7zm4 0h-2V7h2v10zm4 0h-2v-4h2v4z\"/>\n",
              "    </g>\n",
              "</svg>\n",
              "      </button>\n",
              "\n",
              "<style>\n",
              "  .colab-df-quickchart {\n",
              "      --bg-color: #E8F0FE;\n",
              "      --fill-color: #1967D2;\n",
              "      --hover-bg-color: #E2EBFA;\n",
              "      --hover-fill-color: #174EA6;\n",
              "      --disabled-fill-color: #AAA;\n",
              "      --disabled-bg-color: #DDD;\n",
              "  }\n",
              "\n",
              "  [theme=dark] .colab-df-quickchart {\n",
              "      --bg-color: #3B4455;\n",
              "      --fill-color: #D2E3FC;\n",
              "      --hover-bg-color: #434B5C;\n",
              "      --hover-fill-color: #FFFFFF;\n",
              "      --disabled-bg-color: #3B4455;\n",
              "      --disabled-fill-color: #666;\n",
              "  }\n",
              "\n",
              "  .colab-df-quickchart {\n",
              "    background-color: var(--bg-color);\n",
              "    border: none;\n",
              "    border-radius: 50%;\n",
              "    cursor: pointer;\n",
              "    display: none;\n",
              "    fill: var(--fill-color);\n",
              "    height: 32px;\n",
              "    padding: 0;\n",
              "    width: 32px;\n",
              "  }\n",
              "\n",
              "  .colab-df-quickchart:hover {\n",
              "    background-color: var(--hover-bg-color);\n",
              "    box-shadow: 0 1px 2px rgba(60, 64, 67, 0.3), 0 1px 3px 1px rgba(60, 64, 67, 0.15);\n",
              "    fill: var(--button-hover-fill-color);\n",
              "  }\n",
              "\n",
              "  .colab-df-quickchart-complete:disabled,\n",
              "  .colab-df-quickchart-complete:disabled:hover {\n",
              "    background-color: var(--disabled-bg-color);\n",
              "    fill: var(--disabled-fill-color);\n",
              "    box-shadow: none;\n",
              "  }\n",
              "\n",
              "  .colab-df-spinner {\n",
              "    border: 2px solid var(--fill-color);\n",
              "    border-color: transparent;\n",
              "    border-bottom-color: var(--fill-color);\n",
              "    animation:\n",
              "      spin 1s steps(1) infinite;\n",
              "  }\n",
              "\n",
              "  @keyframes spin {\n",
              "    0% {\n",
              "      border-color: transparent;\n",
              "      border-bottom-color: var(--fill-color);\n",
              "      border-left-color: var(--fill-color);\n",
              "    }\n",
              "    20% {\n",
              "      border-color: transparent;\n",
              "      border-left-color: var(--fill-color);\n",
              "      border-top-color: var(--fill-color);\n",
              "    }\n",
              "    30% {\n",
              "      border-color: transparent;\n",
              "      border-left-color: var(--fill-color);\n",
              "      border-top-color: var(--fill-color);\n",
              "      border-right-color: var(--fill-color);\n",
              "    }\n",
              "    40% {\n",
              "      border-color: transparent;\n",
              "      border-right-color: var(--fill-color);\n",
              "      border-top-color: var(--fill-color);\n",
              "    }\n",
              "    60% {\n",
              "      border-color: transparent;\n",
              "      border-right-color: var(--fill-color);\n",
              "    }\n",
              "    80% {\n",
              "      border-color: transparent;\n",
              "      border-right-color: var(--fill-color);\n",
              "      border-bottom-color: var(--fill-color);\n",
              "    }\n",
              "    90% {\n",
              "      border-color: transparent;\n",
              "      border-bottom-color: var(--fill-color);\n",
              "    }\n",
              "  }\n",
              "</style>\n",
              "\n",
              "      <script>\n",
              "        async function quickchart(key) {\n",
              "          const quickchartButtonEl =\n",
              "            document.querySelector('#' + key + ' button');\n",
              "          quickchartButtonEl.disabled = true;  // To prevent multiple clicks.\n",
              "          quickchartButtonEl.classList.add('colab-df-spinner');\n",
              "          try {\n",
              "            const charts = await google.colab.kernel.invokeFunction(\n",
              "                'suggestCharts', [key], {});\n",
              "          } catch (error) {\n",
              "            console.error('Error during call to suggestCharts:', error);\n",
              "          }\n",
              "          quickchartButtonEl.classList.remove('colab-df-spinner');\n",
              "          quickchartButtonEl.classList.add('colab-df-quickchart-complete');\n",
              "        }\n",
              "        (() => {\n",
              "          let quickchartButtonEl =\n",
              "            document.querySelector('#df-b16438d2-9a4c-4c8a-8d0c-63ee92dfcdc6 button');\n",
              "          quickchartButtonEl.style.display =\n",
              "            google.colab.kernel.accessAllowed ? 'block' : 'none';\n",
              "        })();\n",
              "      </script>\n",
              "    </div>\n",
              "\n",
              "    </div>\n",
              "  </div>\n"
            ],
            "application/vnd.google.colaboratory.intrinsic+json": {
              "type": "dataframe",
              "variable_name": "data",
              "summary": "{\n  \"name\": \"data\",\n  \"rows\": 234,\n  \"fields\": [\n    {\n      \"column\": \"age\",\n      \"properties\": {\n        \"dtype\": \"number\",\n        \"std\": 9,\n        \"min\": 29,\n        \"max\": 76,\n        \"num_unique_values\": 39,\n        \"samples\": [\n          29,\n          74,\n          56\n        ],\n        \"semantic_type\": \"\",\n        \"description\": \"\"\n      }\n    },\n    {\n      \"column\": \"sex\",\n      \"properties\": {\n        \"dtype\": \"number\",\n        \"std\": 0,\n        \"min\": 0,\n        \"max\": 1,\n        \"num_unique_values\": 2,\n        \"samples\": [\n          1,\n          0\n        ],\n        \"semantic_type\": \"\",\n        \"description\": \"\"\n      }\n    },\n    {\n      \"column\": \"dataset\",\n      \"properties\": {\n        \"dtype\": \"number\",\n        \"std\": 0,\n        \"min\": 0,\n        \"max\": 2,\n        \"num_unique_values\": 3,\n        \"samples\": [\n          0,\n          1\n        ],\n        \"semantic_type\": \"\",\n        \"description\": \"\"\n      }\n    },\n    {\n      \"column\": \"cp\",\n      \"properties\": {\n        \"dtype\": \"number\",\n        \"std\": 0,\n        \"min\": 0,\n        \"max\": 3,\n        \"num_unique_values\": 4,\n        \"samples\": [\n          1,\n          3\n        ],\n        \"semantic_type\": \"\",\n        \"description\": \"\"\n      }\n    },\n    {\n      \"column\": \"trestbps\",\n      \"properties\": {\n        \"dtype\": \"number\",\n        \"std\": 15.40984601617824,\n        \"min\": 94.0,\n        \"max\": 170.0,\n        \"num_unique_values\": 40,\n        \"samples\": [\n          108.0,\n          104.0\n        ],\n        \"semantic_type\": \"\",\n        \"description\": \"\"\n      }\n    },\n    {\n      \"column\": \"chol\",\n      \"properties\": {\n        \"dtype\": \"number\",\n        \"std\": 45.6798146254588,\n        \"min\": 100.0,\n        \"max\": 394.0,\n        \"num_unique_values\": 128,\n        \"samples\": [\n          245.0,\n          213.0\n        ],\n        \"semantic_type\": \"\",\n        \"description\": \"\"\n      }\n    },\n    {\n      \"column\": \"fbs\",\n      \"properties\": {\n        \"dtype\": \"number\",\n        \"std\": 0,\n        \"min\": 0,\n        \"max\": 1,\n        \"num_unique_values\": 2,\n        \"samples\": [\n          1,\n          0\n        ],\n        \"semantic_type\": \"\",\n        \"description\": \"\"\n      }\n    },\n    {\n      \"column\": \"restecg\",\n      \"properties\": {\n        \"dtype\": \"number\",\n        \"std\": 0,\n        \"min\": 0,\n        \"max\": 2,\n        \"num_unique_values\": 3,\n        \"samples\": [\n          0,\n          1\n        ],\n        \"semantic_type\": \"\",\n        \"description\": \"\"\n      }\n    },\n    {\n      \"column\": \"thalch\",\n      \"properties\": {\n        \"dtype\": \"number\",\n        \"std\": 21.999461845347604,\n        \"min\": 71.0,\n        \"max\": 202.0,\n        \"num_unique_values\": 84,\n        \"samples\": [\n          103.0,\n          150.0\n        ],\n        \"semantic_type\": \"\",\n        \"description\": \"\"\n      }\n    },\n    {\n      \"column\": \"exang\",\n      \"properties\": {\n        \"dtype\": \"number\",\n        \"std\": 0,\n        \"min\": 0,\n        \"max\": 1,\n        \"num_unique_values\": 2,\n        \"samples\": [\n          1,\n          0\n        ],\n        \"semantic_type\": \"\",\n        \"description\": \"\"\n      }\n    },\n    {\n      \"column\": \"oldpeak\",\n      \"properties\": {\n        \"dtype\": \"number\",\n        \"std\": 0.9290868511727616,\n        \"min\": 0.0,\n        \"max\": 3.6,\n        \"num_unique_values\": 31,\n        \"samples\": [\n          2.0,\n          1.5\n        ],\n        \"semantic_type\": \"\",\n        \"description\": \"\"\n      }\n    },\n    {\n      \"column\": \"slope\",\n      \"properties\": {\n        \"dtype\": \"number\",\n        \"std\": 0,\n        \"min\": 0,\n        \"max\": 3,\n        \"num_unique_values\": 4,\n        \"samples\": [\n          1,\n          3\n        ],\n        \"semantic_type\": \"\",\n        \"description\": \"\"\n      }\n    },\n    {\n      \"column\": \"ca\",\n      \"properties\": {\n        \"dtype\": \"number\",\n        \"std\": 0.6413139001921415,\n        \"min\": 0.0,\n        \"max\": 2.0,\n        \"num_unique_values\": 3,\n        \"samples\": [\n          0.0,\n          2.0\n        ],\n        \"semantic_type\": \"\",\n        \"description\": \"\"\n      }\n    },\n    {\n      \"column\": \"thal\",\n      \"properties\": {\n        \"dtype\": \"number\",\n        \"std\": 0,\n        \"min\": 0,\n        \"max\": 3,\n        \"num_unique_values\": 4,\n        \"samples\": [\n          1,\n          3\n        ],\n        \"semantic_type\": \"\",\n        \"description\": \"\"\n      }\n    },\n    {\n      \"column\": \"num\",\n      \"properties\": {\n        \"dtype\": \"number\",\n        \"std\": 0,\n        \"min\": 0,\n        \"max\": 2,\n        \"num_unique_values\": 3,\n        \"samples\": [\n          0,\n          1\n        ],\n        \"semantic_type\": \"\",\n        \"description\": \"\"\n      }\n    }\n  ]\n}"
            }
          },
          "metadata": {},
          "execution_count": 198
        }
      ]
    },
    {
      "cell_type": "markdown",
      "source": [
        "MODEL TRAIN"
      ],
      "metadata": {
        "id": "d9ZyygbcMf3c"
      }
    },
    {
      "cell_type": "markdown",
      "source": [
        "DECISION TREE"
      ],
      "metadata": {
        "id": "hRnoHavzMiaS"
      }
    },
    {
      "cell_type": "code",
      "source": [
        "X = data.drop(columns=['num'])\n",
        "y = data['num']\n",
        "\n",
        "scaler = StandardScaler()\n",
        "X_scaled = scaler.fit_transform(X)\n",
        "\n",
        "\n",
        "X_train, X_test, y_train, y_test = train_test_split(X_scaled, y, test_size=0.2, random_state=42)\n",
        "\n",
        "model = DecisionTreeClassifier(random_state=42)\n",
        "model.fit(X_train, y_train)\n",
        "\n",
        "y_pred = model.predict(X_test)\n",
        "\n",
        "accuracy = accuracy_score(y_test, y_pred)\n",
        "precision = precision_score(y_test, y_pred, average='weighted')\n",
        "recall = recall_score(y_test, y_pred, average='weighted')\n",
        "f1 = f1_score(y_test, y_pred, average='weighted')\n",
        "\n",
        "\n",
        "print(f\"Accuracy: {accuracy}\")\n",
        "print(f\"Precision: {precision}\")\n",
        "print(f\"Recall: {recall}\")\n",
        "print(f\"F1-score: {f1}\")\n",
        "\n",
        "class_names = sorted(y.unique())\n",
        "\n",
        "print(\"Confusion Matrix:\")\n",
        "cm = confusion_matrix(y_test, y_pred)\n",
        "print(cm)\n",
        "\n",
        "plt.figure(figsize=(8, 6))\n",
        "sns.heatmap(cm, annot=True, fmt=\"d\", cmap=\"Blues\",xticklabels=class_names, yticklabels=class_names)\n",
        "plt.xlabel(\"Predicted\")\n",
        "plt.ylabel(\"Actual\")\n",
        "plt.title(\"Confusion Matrix\")\n",
        "plt.show()\n"
      ],
      "metadata": {
        "colab": {
          "base_uri": "https://localhost:8080/",
          "height": 703
        },
        "id": "QpCZ_-XXKmq8",
        "outputId": "69624f0a-c3c3-4009-a42a-1120b10c70a8"
      },
      "execution_count": 199,
      "outputs": [
        {
          "output_type": "stream",
          "name": "stdout",
          "text": [
            "Accuracy: 0.5531914893617021\n",
            "Precision: 0.5560770407453761\n",
            "Recall: 0.5531914893617021\n",
            "F1-score: 0.519076812116841\n",
            "Confusion Matrix:\n",
            "[[21  3  1]\n",
            " [ 9  2  0]\n",
            " [ 4  4  3]]\n"
          ]
        },
        {
          "output_type": "display_data",
          "data": {
            "text/plain": [
              "<Figure size 800x600 with 2 Axes>"
            ],
            "image/png": "[encoded data removed]"
          },
          "metadata": {}
        }
      ]
    },
    {
      "cell_type": "markdown",
      "source": [
        "## as we can see the predicted results are not quite up to the mark, we will try to tune it now."
      ],
      "metadata": {
        "id": "HSEuB_eMMvJG"
      }
    },
    {
      "cell_type": "code",
      "source": [
        "\n",
        "\n",
        "best_score = 0\n",
        "best_params = {}\n",
        "\n",
        "for depth in [3, 5, 7, 10, None]:\n",
        "    for split in [2, 5, 10, 20]:\n",
        "        for leaf in [1, 2, 5, 10]:\n",
        "            model = DecisionTreeClassifier(\n",
        "                max_depth=depth,\n",
        "                min_samples_split=split,\n",
        "                min_samples_leaf=leaf,\n",
        "                criterion=\"gini\",\n",
        "                random_state=42\n",
        "            )\n",
        "            model.fit(X_train, y_train)\n",
        "            y_pred = model.predict(X_test)\n",
        "\n",
        "            acc = accuracy_score(y_test, y_pred)\n",
        "            if acc > best_score:\n",
        "                best_score = acc\n",
        "                best_params = {\n",
        "                    \"max_depth\": depth,\n",
        "                    \"min_samples_split\": split,\n",
        "                    \"min_samples_leaf\": leaf,\n",
        "                    \"criterion\": \"gini\"\n",
        "                }\n",
        "\n",
        "print(\"Best Accuracy:\", best_score)\n",
        "print(\"Best Parameters:\", best_params)\n"
      ],
      "metadata": {
        "colab": {
          "base_uri": "https://localhost:8080/"
        },
        "id": "3KySvZ5mOvmJ",
        "outputId": "182f5fcb-5f6b-4cd1-fbdc-9a29c53e5f5f"
      },
      "execution_count": 200,
      "outputs": [
        {
          "output_type": "stream",
          "name": "stdout",
          "text": [
            "Best Accuracy: 0.6170212765957447\n",
            "Best Parameters: {'max_depth': 10, 'min_samples_split': 2, 'min_samples_leaf': 2, 'criterion': 'gini'}\n"
          ]
        }
      ]
    },
    {
      "cell_type": "markdown",
      "source": [
        "# **Parameter Tuning**"
      ],
      "metadata": {
        "id": "il6yhVJLVjs9"
      }
    },
    {
      "cell_type": "code",
      "source": [
        "\n",
        "final_model = DecisionTreeClassifier(\n",
        "    max_depth=10,\n",
        "    min_samples_split=2,\n",
        "    min_samples_leaf=2,\n",
        "    criterion=\"gini\",\n",
        "    random_state=42\n",
        ")\n",
        "\n",
        "final_model.fit(X_train, y_train)\n",
        "y_pred = final_model.predict(X_test)\n",
        "\n",
        "# Evaluation metrics\n",
        "accuracy = accuracy_score(y_test, y_pred)\n",
        "precision = precision_score(y_test, y_pred, average='weighted')\n",
        "recall = recall_score(y_test, y_pred, average='weighted')\n",
        "f1 = f1_score(y_test, y_pred, average='weighted')\n",
        "\n",
        "print(\"Final Model Performance\")\n",
        "print(f\"Accuracy: {accuracy:.4f}\")\n",
        "print(f\"Precision: {precision:.4f}\")\n",
        "print(f\"Recall: {recall:.4f}\")\n",
        "print(f\"F1-score: {f1:.4f}\")\n",
        "\n",
        "# Confusion Matrix\n",
        "cm = confusion_matrix(y_test, y_pred)\n",
        "plt.figure(figsize=(8, 6))\n",
        "sns.heatmap(cm, annot=True, fmt=\"d\", cmap=\"Blues\",\n",
        "            xticklabels=sorted(y.unique()), yticklabels=sorted(y.unique()))\n",
        "plt.xlabel(\"Predicted\")\n",
        "plt.ylabel(\"Actual\")\n",
        "plt.title(\"Confusion Matrix - Final Tuned Decision Tree\")\n",
        "plt.show()\n"
      ],
      "metadata": {
        "colab": {
          "base_uri": "https://localhost:8080/",
          "height": 651
        },
        "id": "lWoBbboiPK59",
        "outputId": "341dddb2-ee25-4932-8a9f-4a256ca0ba93"
      },
      "execution_count": 201,
      "outputs": [
        {
          "output_type": "stream",
          "name": "stdout",
          "text": [
            "Final Model Performance\n",
            "Accuracy: 0.6170\n",
            "Precision: 0.6480\n",
            "Recall: 0.6170\n",
            "F1-score: 0.5606\n"
          ]
        },
        {
          "output_type": "display_data",
          "data": {
            "text/plain": [
              "<Figure size 800x600 with 2 Axes>"
            ],
            "image/png": "[encoded data removed]"
          },
          "metadata": {}
        }
      ]
    },
    {
      "cell_type": "markdown",
      "source": [
        "After the parameter tuning, SVM performed better than the first time."
      ],
      "metadata": {
        "id": "2f4ty66pVpYF"
      }
    },
    {
      "cell_type": "markdown",
      "source": [
        "## **SVM**"
      ],
      "metadata": {
        "id": "BZC3s77_SVHf"
      }
    },
    {
      "cell_type": "code",
      "source": [
        "y = data['num']\n",
        "X = data.drop('num', axis=1)\n",
        "\n",
        "scaler = StandardScaler()\n",
        "X_scaled = scaler.fit_transform(X)\n",
        "\n",
        "\n",
        "X_train, X_test, y_train, y_test = train_test_split(X_scaled, y, test_size=0.2, random_state=42)\n",
        "\n",
        "model = DecisionTreeClassifier(random_state=42)\n",
        "model.fit(X_train, y_train)\n",
        "\n",
        "\n",
        "y_pred = model.predict(X_test)\n",
        "\n",
        "accuracy = accuracy_score(y_test, y_pred)\n",
        "precision = precision_score(y_test, y_pred, average='weighted')\n",
        "recall = recall_score(y_test, y_pred, average='weighted')\n",
        "f1 = f1_score(y_test, y_pred, average='weighted')\n",
        "\n",
        "\n",
        "print(f\"Accuracy: {accuracy}\")\n",
        "print(f\"Precision: {precision}\")\n",
        "print(f\"Recall: {recall}\")\n",
        "print(f\"F1-score: {f1}\")\n",
        "\n",
        "\n",
        "class_names = sorted(y_test.unique())\n",
        "\n",
        "\n",
        "print(\"Confusion Matrix:\")\n",
        "cm = confusion_matrix(y_test, y_pred)\n",
        "print(cm)\n",
        "\n",
        "plt.figure(figsize=(8, 6))\n",
        "sns.heatmap(cm, annot=True, fmt=\"d\", cmap=\"Blues\", xticklabels=class_names, yticklabels=class_names)\n",
        "plt.xlabel(\"Predicted\")\n",
        "plt.ylabel(\"Actual\")\n",
        "plt.title(\"Confusion Matrix\")\n",
        "plt.show()"
      ],
      "metadata": {
        "colab": {
          "base_uri": "https://localhost:8080/",
          "height": 703
        },
        "id": "SaqlaFdfSWpc",
        "outputId": "bf91f3f7-fb6f-44c9-d824-87fceb94c4a9"
      },
      "execution_count": 202,
      "outputs": [
        {
          "output_type": "stream",
          "name": "stdout",
          "text": [
            "Accuracy: 0.5531914893617021\n",
            "Precision: 0.5560770407453761\n",
            "Recall: 0.5531914893617021\n",
            "F1-score: 0.519076812116841\n",
            "Confusion Matrix:\n",
            "[[21  3  1]\n",
            " [ 9  2  0]\n",
            " [ 4  4  3]]\n"
          ]
        },
        {
          "output_type": "display_data",
          "data": {
            "text/plain": [
              "<Figure size 800x600 with 2 Axes>"
            ],
            "image/png": "[encoded data removed]"
          },
          "metadata": {}
        }
      ]
    },
    {
      "cell_type": "markdown",
      "source": [
        "## **SVM MODEL WITH KERNEL = \"LINEAR\"**"
      ],
      "metadata": {
        "id": "-4rq5TcaQ5eo"
      }
    },
    {
      "cell_type": "code",
      "source": [
        "\n",
        "X = data.drop('num', axis=1)\n",
        "y = data['num']\n",
        "\n",
        "X_train, X_test, y_train, y_test = train_test_split(X, y, test_size=0.2, random_state=42)"
      ],
      "metadata": {
        "id": "ibDmkZdWRBOA"
      },
      "execution_count": 203,
      "outputs": []
    },
    {
      "cell_type": "code",
      "source": [
        "\n",
        "svm_classifier = SVC(kernel='linear')\n",
        "svm_classifier.fit(X_train, y_train)\n",
        "\n",
        "y_pred = svm_classifier.predict(X_test)\n",
        "\n",
        "\n",
        "accuracy = accuracy_score(y_test, y_pred)\n",
        "precision = precision_score(y_test, y_pred, average='weighted')\n",
        "recall = recall_score(y_test, y_pred, average='weighted')\n",
        "f1 = f1_score(y_test, y_pred, average='weighted')\n",
        "\n",
        "\n",
        "print(f\"Accuracy: {accuracy}\")\n",
        "print(f\"Precision: {precision}\")\n",
        "print(f\"Recall: {recall}\")\n",
        "print(f\"F1-score: {f1}\")\n",
        "\n",
        "\n",
        "cm = confusion_matrix(y_test, y_pred)\n",
        "print(\"Confusion Matrix:\")\n",
        "print(cm)\n",
        "\n",
        "\n",
        "\n",
        "\n",
        "sns.heatmap(cm, annot=True, fmt=\"d\", cmap=\"Blues\")\n",
        "plt.xlabel(\"Predicted\")\n",
        "plt.ylabel(\"Actual\")\n",
        "plt.title(\"Confusion Matrix\")\n",
        "plt.show()"
      ],
      "metadata": {
        "colab": {
          "base_uri": "https://localhost:8080/",
          "height": 611
        },
        "id": "s9xtMnSQRjtg",
        "outputId": "0c127f62-ea4b-448e-becc-cc32c7592246"
      },
      "execution_count": 204,
      "outputs": [
        {
          "output_type": "stream",
          "name": "stdout",
          "text": [
            "Accuracy: 0.48936170212765956\n",
            "Precision: 0.49232373800584067\n",
            "Recall: 0.48936170212765956\n",
            "F1-score: 0.4497793347414695\n",
            "Confusion Matrix:\n",
            "[[20  4  1]\n",
            " [10  1  0]\n",
            " [ 4  5  2]]\n"
          ]
        },
        {
          "output_type": "display_data",
          "data": {
            "text/plain": [
              "<Figure size 640x480 with 2 Axes>"
            ],
            "image/png": "[encoded data removed]"
          },
          "metadata": {}
        }
      ]
    },
    {
      "cell_type": "markdown",
      "source": [
        "# **SVM MODEL WITH KERNEL = RBF**"
      ],
      "metadata": {
        "id": "8lvvi_wmRzAI"
      }
    },
    {
      "cell_type": "code",
      "source": [
        "\n",
        "svm_classifier_rbf = SVC(kernel='rbf')\n",
        "svm_classifier_rbf.fit(X_train, y_train)\n",
        "\n",
        "\n",
        "y_pred_rbf = svm_classifier_rbf.predict(X_test)\n",
        "\n",
        "\n",
        "accuracy_rbf = accuracy_score(y_test, y_pred_rbf)\n",
        "precision_rbf = precision_score(y_test, y_pred_rbf, average='weighted')\n",
        "recall_rbf = recall_score(y_test, y_pred_rbf, average='weighted')\n",
        "f1_rbf = f1_score(y_test, y_pred_rbf, average='weighted')\n",
        "\n",
        "\n",
        "print(f\"Accuracy (RBF): {accuracy_rbf}\")\n",
        "print(f\"Precision (RBF): {precision_rbf}\")\n",
        "print(f\"Recall (RBF): {recall_rbf}\")\n",
        "print(f\"F1-score (RBF): {f1_rbf}\")\n",
        "\n",
        "\n",
        "cm_rbf = confusion_matrix(y_test, y_pred_rbf)\n",
        "print(\"Confusion Matrix (RBF):\")\n",
        "print(cm_rbf)\n",
        "\n",
        "\n",
        "sns.heatmap(cm_rbf, annot=True, fmt=\"d\", cmap=\"Blues\")\n",
        "plt.xlabel(\"Predicted\")\n",
        "plt.ylabel(\"Actual\")\n",
        "plt.title(\"Confusion Matrix (RBF)\")\n",
        "plt.show()"
      ],
      "metadata": {
        "colab": {
          "base_uri": "https://localhost:8080/",
          "height": 666
        },
        "id": "nesG4HipRuc_",
        "outputId": "386f6086-e0b4-4517-eea8-8066e084f6fa"
      },
      "execution_count": 205,
      "outputs": [
        {
          "output_type": "stream",
          "name": "stderr",
          "text": [
            "/usr/local/lib/python3.11/dist-packages/sklearn/metrics/_classification.py:1565: UndefinedMetricWarning: Precision is ill-defined and being set to 0.0 in labels with no predicted samples. Use `zero_division` parameter to control this behavior.\n",
            "  _warn_prf(average, modifier, f\"{metric.capitalize()} is\", len(result))\n"
          ]
        },
        {
          "output_type": "stream",
          "name": "stdout",
          "text": [
            "Accuracy (RBF): 0.5319148936170213\n",
            "Precision (RBF): 0.282933454051607\n",
            "Recall (RBF): 0.5319148936170213\n",
            "F1-score (RBF): 0.3693853427895981\n",
            "Confusion Matrix (RBF):\n",
            "[[25  0  0]\n",
            " [11  0  0]\n",
            " [11  0  0]]\n"
          ]
        },
        {
          "output_type": "display_data",
          "data": {
            "text/plain": [
              "<Figure size 640x480 with 2 Axes>"
            ],
            "image/png": "[encoded data removed]"
          },
          "metadata": {}
        }
      ]
    },
    {
      "cell_type": "markdown",
      "source": [
        "### SVM WITH \"RBF\" KERNELL PERFORMED A BIT WELL."
      ],
      "metadata": {
        "id": "pgxN1-1VVMQ7"
      }
    },
    {
      "cell_type": "markdown",
      "source": [
        "## **RANDOM FOREST**"
      ],
      "metadata": {
        "id": "tDzSg3F_V466"
      }
    },
    {
      "cell_type": "code",
      "source": [
        "# Train a Random Forest model\n",
        "rf_model = RandomForestClassifier(random_state=42)\n",
        "\n",
        "# Scale the data before training\n",
        "X_train_scaled = scaler.transform(X_train)\n",
        "X_test_scaled = scaler.transform(X_test)\n",
        "\n",
        "rf_model.fit(X_train_scaled, y_train)\n",
        "\n",
        "# Make predictions\n",
        "y_pred_rf = rf_model.predict(X_test_scaled)\n",
        "\n",
        "# Evaluate the Random Forest model\n",
        "accuracy_rf = accuracy_score(y_test, y_pred_rf)\n",
        "precision_rf = precision_score(y_test, y_pred_rf, average='weighted')\n",
        "recall_rf = recall_score(y_test, y_pred_rf, average='weighted')\n",
        "f1_rf = f1_score(y_test, y_pred_rf, average='weighted')\n",
        "\n",
        "print(\"Random Forest Model Evaluation:\")\n",
        "print(f\"Accuracy: {accuracy_rf}\")\n",
        "print(f\"Precision: {precision_rf}\")\n",
        "print(f\"Recall: {recall_rf}\")\n",
        "print(f\"F1-score: {f1_rf}\")\n",
        "\n",
        "# Confusion Matrix for Random Forest\n",
        "print(\"\\nConfusion Matrix (Random Forest):\")\n",
        "cm_rf = confusion_matrix(y_test, y_pred_rf)\n",
        "print(cm_rf)\n",
        "\n",
        "plt.figure(figsize=(8, 6))\n",
        "sns.heatmap(cm_rf, annot=True, fmt=\"d\", cmap=\"Blues\", xticklabels=class_names, yticklabels=class_names)\n",
        "plt.xlabel(\"Predicted\")\n",
        "plt.ylabel(\"Actual\")\n",
        "plt.title(\"Confusion Matrix (Random Forest)\")\n",
        "plt.show()"
      ],
      "metadata": {
        "colab": {
          "base_uri": "https://localhost:8080/",
          "height": 738
        },
        "id": "jcUxnbOpV6wG",
        "outputId": "f161a9c8-9561-4e6a-ea7c-4f0c90a4c6ae"
      },
      "execution_count": 206,
      "outputs": [
        {
          "output_type": "stream",
          "name": "stdout",
          "text": [
            "Random Forest Model Evaluation:\n",
            "Accuracy: 0.6170212765957447\n",
            "Precision: 0.6480029861888764\n",
            "Recall: 0.6170212765957447\n",
            "F1-score: 0.5606412777877109\n",
            "\n",
            "Confusion Matrix (Random Forest):\n",
            "[[24  1  0]\n",
            " [ 9  2  0]\n",
            " [ 5  3  3]]\n"
          ]
        },
        {
          "output_type": "display_data",
          "data": {
            "text/plain": [
              "<Figure size 800x600 with 2 Axes>"
            ],
            "image/png": "[encoded data removed]"
          },
          "metadata": {}
        }
      ]
    },
    {
      "cell_type": "markdown",
      "source": [
        "# Now, let's see if we can do any better by parameter tuning"
      ],
      "metadata": {
        "id": "EP9MstRBWlAH"
      }
    },
    {
      "cell_type": "markdown",
      "source": [
        "## **GRID SEARCH**"
      ],
      "metadata": {
        "id": "NTVB5DhdXe3c"
      }
    },
    {
      "cell_type": "code",
      "source": [
        "from sklearn.model_selection import GridSearchCV\n",
        "\n",
        "param_grid_svm = {'C': [0.1, 1, 10, 100], 'kernel': ['linear', 'rbf']}\n",
        "param_grid_dt = {'max_depth': [None, 10, 20, 30], 'min_samples_split': [2, 5, 10]}\n",
        "param_grid_rf = {'n_estimators': [50, 100, 200], 'max_depth': [None, 10, 20]}"
      ],
      "metadata": {
        "id": "iMwFDph0XgXx"
      },
      "execution_count": 207,
      "outputs": []
    },
    {
      "cell_type": "code",
      "source": [
        "grid_search_rf = GridSearchCV(RandomForestClassifier(random_state=42), param_grid_rf, cv=5, scoring='accuracy')\n",
        "grid_search_rf.fit(X_train_scaled, y_train)\n",
        "\n",
        "print(\"\\nBest parameters for Random Forest(Grid Search):\", grid_search_rf.best_params_)\n",
        "print(\"Best cross-validation accuracy for Random Forest:\", grid_search_rf.best_score_)"
      ],
      "metadata": {
        "colab": {
          "base_uri": "https://localhost:8080/"
        },
        "id": "fnmgT73GXjkP",
        "outputId": "b99af66b-498f-4c5a-bb60-37cede16430c"
      },
      "execution_count": 208,
      "outputs": [
        {
          "output_type": "stream",
          "name": "stdout",
          "text": [
            "\n",
            "Best parameters for Random Forest(Grid Search): {'max_depth': None, 'n_estimators': 50}\n",
            "Best cross-validation accuracy for Random Forest: 0.7486486486486488\n"
          ]
        }
      ]
    },
    {
      "cell_type": "code",
      "source": [
        "# predicting on test set using the best model\n",
        "best_rf = grid_search_rf.best_estimator_\n",
        "y_pred = best_rf.predict(X_test_scaled)\n",
        "\n",
        "# Evaluating performance on test set\n",
        "print(\"\\nTest Accuracy:\", accuracy_score(y_test, y_pred))\n",
        "print(\"\\nClassification Report:\\n\", classification_report(y_test, y_pred))\n",
        "print(\"\\nConfusion Matrix:\\n\", confusion_matrix(y_test, y_pred))\n"
      ],
      "metadata": {
        "colab": {
          "base_uri": "https://localhost:8080/"
        },
        "id": "lvgzSHNHc8JP",
        "outputId": "11179a3f-7792-4b72-8a43-35c0ab852df1"
      },
      "execution_count": 209,
      "outputs": [
        {
          "output_type": "stream",
          "name": "stdout",
          "text": [
            "\n",
            "Test Accuracy: 0.5957446808510638\n",
            "\n",
            "Classification Report:\n",
            "               precision    recall  f1-score   support\n",
            "\n",
            "           0       0.62      1.00      0.77        25\n",
            "           1       0.20      0.09      0.12        11\n",
            "           2       1.00      0.18      0.31        11\n",
            "\n",
            "    accuracy                           0.60        47\n",
            "   macro avg       0.61      0.42      0.40        47\n",
            "weighted avg       0.61      0.60      0.51        47\n",
            "\n",
            "\n",
            "Confusion Matrix:\n",
            " [[25  0  0]\n",
            " [10  1  0]\n",
            " [ 5  4  2]]\n"
          ]
        }
      ]
    },
    {
      "cell_type": "markdown",
      "source": [
        "## **Randomized Search**"
      ],
      "metadata": {
        "id": "NQmzu9v6dQEE"
      }
    },
    {
      "cell_type": "code",
      "source": [
        "from sklearn.model_selection import RandomizedSearchCV\n",
        "from scipy.stats import randint as sp_randint\n",
        "\n",
        "param_dist_rf = {'n_estimators': sp_randint(50, 201),\n",
        "                 'max_depth': [None, 10, 20, 30, 40, 50],\n",
        "                 'min_samples_split': sp_randint(2, 11),\n",
        "                 'min_samples_leaf': sp_randint(1, 11),\n",
        "                 'bootstrap': [True, False]}\n",
        "\n",
        "random_search_rf = RandomizedSearchCV(RandomForestClassifier(random_state=42),\n",
        "                                      param_distributions=param_dist_rf,\n",
        "                                      n_iter=100, # Number of parameter settings that are sampled\n",
        "                                      cv=5,\n",
        "                                      scoring='accuracy',\n",
        "                                      random_state=42,\n",
        "                                      n_jobs=-1) # Use all available cores\n",
        "\n",
        "random_search_rf.fit(X_train_scaled, y_train)\n",
        "\n",
        "print(\"Best parameters for Random Forest (Randomized Search):\", random_search_rf.best_params_)\n",
        "print(\"Best cross-validation accuracy for Random Forest (Randomized Search):\", random_search_rf.best_score_)"
      ],
      "metadata": {
        "colab": {
          "base_uri": "https://localhost:8080/"
        },
        "id": "WdezwuvHYHME",
        "outputId": "148785d5-b0f9-4756-e89a-c021211d2fd6"
      },
      "execution_count": 210,
      "outputs": [
        {
          "output_type": "stream",
          "name": "stdout",
          "text": [
            "Best parameters for Random Forest (Randomized Search): {'bootstrap': True, 'max_depth': 10, 'min_samples_leaf': 2, 'min_samples_split': 2, 'n_estimators': 153}\n",
            "Best cross-validation accuracy for Random Forest (Randomized Search): 0.759317211948791\n"
          ]
        }
      ]
    },
    {
      "cell_type": "code",
      "source": [
        "best_model = random_search_rf.best_estimator_\n",
        "best_model_name = \"Random Forest (Randomized Search)\"\n",
        "best_cv_accuracy = random_search_rf.best_score_\n",
        "\n",
        "y_pred_best = best_model.predict(X_test_scaled)\n",
        "\n",
        "accuracy_best = accuracy_score(y_test, y_pred_best)\n",
        "precision_best = precision_score(y_test, y_pred_best, average='weighted') # Use weighted average for multi-class\n",
        "recall_best = recall_score(y_test, y_pred_best, average='weighted')   # Use weighted average for multi-class\n",
        "conf_matrix_best = confusion_matrix(y_test, y_pred_best)\n",
        "\n",
        "print(f\"\\nTest set performance of the best model ({best_model_name}):\")\n",
        "print(f\"Accuracy: {accuracy_best:.4f}\")\n",
        "print(f\"Precision: {precision_best:.4f}\")\n",
        "print(f\"Recall: {recall_best:.4f}\")\n",
        "\n",
        "plt.figure(figsize=(8, 6))\n",
        "sns.heatmap(conf_matrix_best, annot=True, fmt='d', cmap='Blues', xticklabels=sorted(y.unique()), yticklabels=sorted(y.unique()))\n",
        "plt.xlabel('Predicted Label')\n",
        "plt.ylabel('True Label')\n",
        "plt.title(f'{best_model_name} Confusion Matrix (Test Set)')\n",
        "plt.show()\n",
        "\n"
      ],
      "metadata": {
        "colab": {
          "base_uri": "https://localhost:8080/",
          "height": 651
        },
        "id": "0Z_dLBfZYMKX",
        "outputId": "e1c5e668-38b8-4f52-8773-0c82b0507758"
      },
      "execution_count": 211,
      "outputs": [
        {
          "output_type": "stream",
          "name": "stdout",
          "text": [
            "\n",
            "Test set performance of the best model (Random Forest (Randomized Search)):\n",
            "Accuracy: 0.6170\n",
            "Precision: 0.6530\n",
            "Recall: 0.6170\n"
          ]
        },
        {
          "output_type": "display_data",
          "data": {
            "text/plain": [
              "<Figure size 800x600 with 2 Axes>"
            ],
            "image/png": "[encoded data removed]"
          },
          "metadata": {}
        }
      ]
    },
    {
      "cell_type": "markdown",
      "source": [
        "Justification for why Random Forest (Randomized Search) is the best model:\n",
        "Based on cross-validation accuracy, the Random Forest (Randomized Search) achieved the highest score of 0.7593 among the models and tuning techniques evaluated so far.\n",
        "Evaluating this model on the unseen test set, it achieved:\n",
        "- Accuracy: 0.6170\n",
        "- Precision: 0.6530\n",
        "- Recall: 0.6170"
      ],
      "metadata": {
        "id": "wC5MVfLmaAj2"
      }
    },
    {
      "cell_type": "markdown",
      "source": [
        "## **NEURAL NETWORK**"
      ],
      "metadata": {
        "id": "0SHcT0IgeYeK"
      }
    },
    {
      "cell_type": "code",
      "source": [
        "X = data.drop('num', axis=1)\n",
        "y = data['num']\n",
        "\n",
        "\n",
        "scaler = StandardScaler()\n",
        "X_scaled = scaler.fit_transform(X)\n",
        "\n",
        "X_train, X_test, y_train, y_test = train_test_split(X_scaled, y, test_size=0.2, random_state=42)\n",
        "\n",
        "model = Sequential()\n",
        "\n",
        "# Input layer and first hidden layer\n",
        "model.add(Input(shape=(X_train.shape[1],)))\n",
        "model.add(Dense(64, activation='relu'))\n",
        "\n",
        "# Output layer for multi-class classification\n",
        "model.add(Dense(len(y.unique()), activation='softmax'))\n",
        "\n",
        "model.summary()"
      ],
      "metadata": {
        "colab": {
          "base_uri": "https://localhost:8080/",
          "height": 204
        },
        "id": "60rbmUGigTQJ",
        "outputId": "083e7979-3baf-4017-d499-ab0a6f6045c9"
      },
      "execution_count": 212,
      "outputs": [
        {
          "output_type": "display_data",
          "data": {
            "text/plain": [
              "\u001b[1mModel: \"sequential_10\"\u001b[0m\n"
            ],
            "text/html": [
              "<pre style=\"white-space:pre;overflow-x:auto;line-height:normal;font-family:Menlo,'DejaVu Sans Mono',consolas,'Courier New',monospace\"><span style=\"font-weight: bold\">Model: \"sequential_10\"</span>\n",
              "</pre>\n"
            ]
          },
          "metadata": {}
        },
        {
          "output_type": "display_data",
          "data": {
            "text/plain": [
              "┏━━━━━━━━━━━━━━━━━━━━━━━━━━━━━━━━━┳━━━━━━━━━━━━━━━━━━━━━━━━┳━━━━━━━━━━━━━━━┓\n",
              "┃\u001b[1m \u001b[0m\u001b[1mLayer (type)                   \u001b[0m\u001b[1m \u001b[0m┃\u001b[1m \u001b[0m\u001b[1mOutput Shape          \u001b[0m\u001b[1m \u001b[0m┃\u001b[1m \u001b[0m\u001b[1m      Param #\u001b[0m\u001b[1m \u001b[0m┃\n",
              "┡━━━━━━━━━━━━━━━━━━━━━━━━━━━━━━━━━╇━━━━━━━━━━━━━━━━━━━━━━━━╇━━━━━━━━━━━━━━━┩\n",
              "│ dense_21 (\u001b[38;5;33mDense\u001b[0m)                │ (\u001b[38;5;45mNone\u001b[0m, \u001b[38;5;34m64\u001b[0m)             │           \u001b[38;5;34m960\u001b[0m │\n",
              "├─────────────────────────────────┼────────────────────────┼───────────────┤\n",
              "│ dense_22 (\u001b[38;5;33mDense\u001b[0m)                │ (\u001b[38;5;45mNone\u001b[0m, \u001b[38;5;34m3\u001b[0m)              │           \u001b[38;5;34m195\u001b[0m │\n",
              "└─────────────────────────────────┴────────────────────────┴───────────────┘\n"
            ],
            "text/html": [
              "<pre style=\"white-space:pre;overflow-x:auto;line-height:normal;font-family:Menlo,'DejaVu Sans Mono',consolas,'Courier New',monospace\">┏━━━━━━━━━━━━━━━━━━━━━━━━━━━━━━━━━┳━━━━━━━━━━━━━━━━━━━━━━━━┳━━━━━━━━━━━━━━━┓\n",
              "┃<span style=\"font-weight: bold\"> Layer (type)                    </span>┃<span style=\"font-weight: bold\"> Output Shape           </span>┃<span style=\"font-weight: bold\">       Param # </span>┃\n",
              "┡━━━━━━━━━━━━━━━━━━━━━━━━━━━━━━━━━╇━━━━━━━━━━━━━━━━━━━━━━━━╇━━━━━━━━━━━━━━━┩\n",
              "│ dense_21 (<span style=\"color: #0087ff; text-decoration-color: #0087ff\">Dense</span>)                │ (<span style=\"color: #00d7ff; text-decoration-color: #00d7ff\">None</span>, <span style=\"color: #00af00; text-decoration-color: #00af00\">64</span>)             │           <span style=\"color: #00af00; text-decoration-color: #00af00\">960</span> │\n",
              "├─────────────────────────────────┼────────────────────────┼───────────────┤\n",
              "│ dense_22 (<span style=\"color: #0087ff; text-decoration-color: #0087ff\">Dense</span>)                │ (<span style=\"color: #00d7ff; text-decoration-color: #00d7ff\">None</span>, <span style=\"color: #00af00; text-decoration-color: #00af00\">3</span>)              │           <span style=\"color: #00af00; text-decoration-color: #00af00\">195</span> │\n",
              "└─────────────────────────────────┴────────────────────────┴───────────────┘\n",
              "</pre>\n"
            ]
          },
          "metadata": {}
        },
        {
          "output_type": "display_data",
          "data": {
            "text/plain": [
              "\u001b[1m Total params: \u001b[0m\u001b[38;5;34m1,155\u001b[0m (4.51 KB)\n"
            ],
            "text/html": [
              "<pre style=\"white-space:pre;overflow-x:auto;line-height:normal;font-family:Menlo,'DejaVu Sans Mono',consolas,'Courier New',monospace\"><span style=\"font-weight: bold\"> Total params: </span><span style=\"color: #00af00; text-decoration-color: #00af00\">1,155</span> (4.51 KB)\n",
              "</pre>\n"
            ]
          },
          "metadata": {}
        },
        {
          "output_type": "display_data",
          "data": {
            "text/plain": [
              "\u001b[1m Trainable params: \u001b[0m\u001b[38;5;34m1,155\u001b[0m (4.51 KB)\n"
            ],
            "text/html": [
              "<pre style=\"white-space:pre;overflow-x:auto;line-height:normal;font-family:Menlo,'DejaVu Sans Mono',consolas,'Courier New',monospace\"><span style=\"font-weight: bold\"> Trainable params: </span><span style=\"color: #00af00; text-decoration-color: #00af00\">1,155</span> (4.51 KB)\n",
              "</pre>\n"
            ]
          },
          "metadata": {}
        },
        {
          "output_type": "display_data",
          "data": {
            "text/plain": [
              "\u001b[1m Non-trainable params: \u001b[0m\u001b[38;5;34m0\u001b[0m (0.00 B)\n"
            ],
            "text/html": [
              "<pre style=\"white-space:pre;overflow-x:auto;line-height:normal;font-family:Menlo,'DejaVu Sans Mono',consolas,'Courier New',monospace\"><span style=\"font-weight: bold\"> Non-trainable params: </span><span style=\"color: #00af00; text-decoration-color: #00af00\">0</span> (0.00 B)\n",
              "</pre>\n"
            ]
          },
          "metadata": {}
        }
      ]
    },
    {
      "cell_type": "code",
      "source": [
        "model.compile(loss = tf.keras.losses.sparse_categorical_crossentropy, optimizer = tf.keras.optimizers.Adam(), metrics = ['acc']) # Use sparse_categorical_crossentropy for integer labels\n",
        "model.fit(X_train, y_train, batch_size = 32, verbose = 2, epochs = 60)"
      ],
      "metadata": {
        "colab": {
          "base_uri": "https://localhost:8080/"
        },
        "id": "xl7bvRK5hZDf",
        "outputId": "3fd24e9f-c80c-48d8-f8b0-88ddea8665b5"
      },
      "execution_count": 213,
      "outputs": [
        {
          "output_type": "stream",
          "name": "stdout",
          "text": [
            "Epoch 1/60\n",
            "6/6 - 2s - 263ms/step - acc: 0.2193 - loss: 1.4358\n",
            "Epoch 2/60\n",
            "6/6 - 0s - 10ms/step - acc: 0.2246 - loss: 1.2772\n",
            "Epoch 3/60\n",
            "6/6 - 0s - 10ms/step - acc: 0.2727 - loss: 1.1396\n",
            "Epoch 4/60\n",
            "6/6 - 0s - 9ms/step - acc: 0.4225 - loss: 1.0292\n",
            "Epoch 5/60\n",
            "6/6 - 0s - 9ms/step - acc: 0.5936 - loss: 0.9256\n",
            "Epoch 6/60\n",
            "6/6 - 0s - 10ms/step - acc: 0.6791 - loss: 0.8456\n",
            "Epoch 7/60\n",
            "6/6 - 0s - 11ms/step - acc: 0.7219 - loss: 0.7776\n",
            "Epoch 8/60\n",
            "6/6 - 0s - 10ms/step - acc: 0.7647 - loss: 0.7236\n",
            "Epoch 9/60\n",
            "6/6 - 0s - 9ms/step - acc: 0.7754 - loss: 0.6816\n",
            "Epoch 10/60\n",
            "6/6 - 0s - 9ms/step - acc: 0.7861 - loss: 0.6479\n",
            "Epoch 11/60\n",
            "6/6 - 0s - 10ms/step - acc: 0.8075 - loss: 0.6186\n",
            "Epoch 12/60\n",
            "6/6 - 0s - 11ms/step - acc: 0.8182 - loss: 0.5960\n",
            "Epoch 13/60\n",
            "6/6 - 0s - 60ms/step - acc: 0.8075 - loss: 0.5760\n",
            "Epoch 14/60\n",
            "6/6 - 0s - 48ms/step - acc: 0.8128 - loss: 0.5597\n",
            "Epoch 15/60\n",
            "6/6 - 0s - 29ms/step - acc: 0.8075 - loss: 0.5451\n",
            "Epoch 16/60\n",
            "6/6 - 0s - 41ms/step - acc: 0.8128 - loss: 0.5329\n",
            "Epoch 17/60\n",
            "6/6 - 0s - 36ms/step - acc: 0.8075 - loss: 0.5205\n",
            "Epoch 18/60\n",
            "6/6 - 0s - 10ms/step - acc: 0.8075 - loss: 0.5107\n",
            "Epoch 19/60\n",
            "6/6 - 0s - 10ms/step - acc: 0.8128 - loss: 0.5009\n",
            "Epoch 20/60\n",
            "6/6 - 0s - 24ms/step - acc: 0.8128 - loss: 0.4923\n",
            "Epoch 21/60\n",
            "6/6 - 0s - 75ms/step - acc: 0.8182 - loss: 0.4846\n",
            "Epoch 22/60\n",
            "6/6 - 1s - 94ms/step - acc: 0.8235 - loss: 0.4769\n",
            "Epoch 23/60\n",
            "6/6 - 0s - 70ms/step - acc: 0.8235 - loss: 0.4697\n",
            "Epoch 24/60\n",
            "6/6 - 0s - 14ms/step - acc: 0.8182 - loss: 0.4634\n",
            "Epoch 25/60\n",
            "6/6 - 0s - 26ms/step - acc: 0.8289 - loss: 0.4575\n",
            "Epoch 26/60\n",
            "6/6 - 0s - 20ms/step - acc: 0.8449 - loss: 0.4513\n",
            "Epoch 27/60\n",
            "6/6 - 0s - 15ms/step - acc: 0.8503 - loss: 0.4454\n",
            "Epoch 28/60\n",
            "6/6 - 0s - 25ms/step - acc: 0.8449 - loss: 0.4404\n",
            "Epoch 29/60\n",
            "6/6 - 0s - 22ms/step - acc: 0.8449 - loss: 0.4351\n",
            "Epoch 30/60\n",
            "6/6 - 0s - 22ms/step - acc: 0.8449 - loss: 0.4306\n",
            "Epoch 31/60\n",
            "6/6 - 0s - 25ms/step - acc: 0.8449 - loss: 0.4257\n",
            "Epoch 32/60\n",
            "6/6 - 0s - 22ms/step - acc: 0.8449 - loss: 0.4211\n",
            "Epoch 33/60\n",
            "6/6 - 0s - 14ms/step - acc: 0.8449 - loss: 0.4165\n",
            "Epoch 34/60\n",
            "6/6 - 0s - 23ms/step - acc: 0.8503 - loss: 0.4124\n",
            "Epoch 35/60\n",
            "6/6 - 0s - 12ms/step - acc: 0.8663 - loss: 0.4081\n",
            "Epoch 36/60\n",
            "6/6 - 0s - 23ms/step - acc: 0.8663 - loss: 0.4042\n",
            "Epoch 37/60\n",
            "6/6 - 0s - 9ms/step - acc: 0.8663 - loss: 0.3999\n",
            "Epoch 38/60\n",
            "6/6 - 0s - 10ms/step - acc: 0.8663 - loss: 0.3961\n",
            "Epoch 39/60\n",
            "6/6 - 0s - 10ms/step - acc: 0.8663 - loss: 0.3922\n",
            "Epoch 40/60\n",
            "6/6 - 0s - 9ms/step - acc: 0.8663 - loss: 0.3884\n",
            "Epoch 41/60\n",
            "6/6 - 0s - 10ms/step - acc: 0.8663 - loss: 0.3852\n",
            "Epoch 42/60\n",
            "6/6 - 0s - 10ms/step - acc: 0.8610 - loss: 0.3814\n",
            "Epoch 43/60\n",
            "6/6 - 0s - 10ms/step - acc: 0.8717 - loss: 0.3776\n",
            "Epoch 44/60\n",
            "6/6 - 0s - 10ms/step - acc: 0.8663 - loss: 0.3747\n",
            "Epoch 45/60\n",
            "6/6 - 0s - 9ms/step - acc: 0.8663 - loss: 0.3710\n",
            "Epoch 46/60\n",
            "6/6 - 0s - 10ms/step - acc: 0.8717 - loss: 0.3680\n",
            "Epoch 47/60\n",
            "6/6 - 0s - 9ms/step - acc: 0.8717 - loss: 0.3645\n",
            "Epoch 48/60\n",
            "6/6 - 0s - 23ms/step - acc: 0.8770 - loss: 0.3610\n",
            "Epoch 49/60\n",
            "6/6 - 0s - 10ms/step - acc: 0.8717 - loss: 0.3584\n",
            "Epoch 50/60\n",
            "6/6 - 0s - 10ms/step - acc: 0.8770 - loss: 0.3549\n",
            "Epoch 51/60\n",
            "6/6 - 0s - 10ms/step - acc: 0.8717 - loss: 0.3520\n",
            "Epoch 52/60\n",
            "6/6 - 0s - 10ms/step - acc: 0.8824 - loss: 0.3489\n",
            "Epoch 53/60\n",
            "6/6 - 0s - 10ms/step - acc: 0.8824 - loss: 0.3463\n",
            "Epoch 54/60\n",
            "6/6 - 0s - 10ms/step - acc: 0.8824 - loss: 0.3432\n",
            "Epoch 55/60\n",
            "6/6 - 0s - 23ms/step - acc: 0.8824 - loss: 0.3400\n",
            "Epoch 56/60\n",
            "6/6 - 0s - 10ms/step - acc: 0.8824 - loss: 0.3372\n",
            "Epoch 57/60\n",
            "6/6 - 0s - 10ms/step - acc: 0.8824 - loss: 0.3349\n",
            "Epoch 58/60\n",
            "6/6 - 0s - 10ms/step - acc: 0.8824 - loss: 0.3316\n",
            "Epoch 59/60\n",
            "6/6 - 0s - 9ms/step - acc: 0.8824 - loss: 0.3290\n",
            "Epoch 60/60\n",
            "6/6 - 0s - 10ms/step - acc: 0.8824 - loss: 0.3265\n"
          ]
        },
        {
          "output_type": "execute_result",
          "data": {
            "text/plain": [
              "<keras.src.callbacks.history.History at 0x7ca0a28d88d0>"
            ]
          },
          "metadata": {},
          "execution_count": 213
        }
      ]
    },
    {
      "cell_type": "code",
      "source": [
        "predict = model.predict(X_test)\n",
        "# Since the output layer uses softmax, the prediction will be probabilities for each class.\n",
        "# We can get the predicted class by taking the argmax\n",
        "predicted_classes = np.argmax(predict, axis=1)\n",
        "print(predicted_classes)"
      ],
      "metadata": {
        "colab": {
          "base_uri": "https://localhost:8080/"
        },
        "id": "VyJpNe37hcaW",
        "outputId": "a308bb88-0967-4da6-8439-152b812377fe"
      },
      "execution_count": 214,
      "outputs": [
        {
          "output_type": "stream",
          "name": "stdout",
          "text": [
            "\u001b[1m2/2\u001b[0m \u001b[32m━━━━━━━━━━━━━━━━━━━━\u001b[0m\u001b[37m\u001b[0m \u001b[1m0s\u001b[0m 49ms/step\n",
            "[0 1 0 0 0 0 0 2 0 0 1 1 0 1 0 0 0 0 0 1 0 1 0 0 0 2 0 0 0 0 0 0 0 1 1 0 0\n",
            " 0 0 0 2 0 1 0 0 2 0]\n"
          ]
        }
      ]
    },
    {
      "cell_type": "code",
      "source": [
        "Y_pred_rand = np.argmax(model.predict(X_test), axis=1)\n",
        "print('Precision : ', np.round(metrics.precision_score(y_test, Y_pred_rand, average='weighted')*100,2))\n",
        "print('Accuracy : ', np.round(metrics.accuracy_score(y_test, Y_pred_rand)*100,2))\n",
        "print('Recall : ', np.round(metrics.recall_score(y_test, Y_pred_rand, average='weighted')*100,2))\n",
        "print('F1 score : ', np.round(metrics.f1_score(y_test, Y_pred_rand, average='weighted')*100,2))"
      ],
      "metadata": {
        "colab": {
          "base_uri": "https://localhost:8080/"
        },
        "id": "CJXgWh-ghu-a",
        "outputId": "88957941-aa6f-4f6d-a02b-ac7175807971"
      },
      "execution_count": 215,
      "outputs": [
        {
          "output_type": "stream",
          "name": "stdout",
          "text": [
            "\u001b[1m2/2\u001b[0m \u001b[32m━━━━━━━━━━━━━━━━━━━━\u001b[0m\u001b[37m\u001b[0m \u001b[1m0s\u001b[0m 20ms/step\n",
            "Precision :  51.44\n",
            "Accuracy :  51.06\n",
            "Recall :  51.06\n",
            "F1 score :  47.76\n"
          ]
        }
      ]
    },
    {
      "cell_type": "markdown",
      "source": [
        "# **PARAMETER TUNING**"
      ],
      "metadata": {
        "id": "vLfMVVEkpIkl"
      }
    },
    {
      "cell_type": "code",
      "source": [
        "from tensorflow.keras.models import Sequential\n",
        "from tensorflow.keras.layers import Dense, Input\n",
        "\n",
        "\n",
        "model = Sequential([\n",
        "    Input(shape=(X_train.shape[1],)),\n",
        "    Dense(64, activation='relu'),\n",
        "    Dense(32, activation='relu'),\n",
        "    Dense(len(y.unique()), activation='softmax')\n",
        "])\n",
        "\n",
        "model.compile(optimizer='adam', loss='sparse_categorical_crossentropy', metrics=['accuracy'])\n",
        "model.summary()"
      ],
      "metadata": {
        "colab": {
          "base_uri": "https://localhost:8080/",
          "height": 238
        },
        "id": "mh2lpTvDoS0v",
        "outputId": "1466bf29-c335-437b-8d84-a1ef7c148dac"
      },
      "execution_count": 222,
      "outputs": [
        {
          "output_type": "display_data",
          "data": {
            "text/plain": [
              "\u001b[1mModel: \"sequential_12\"\u001b[0m\n"
            ],
            "text/html": [
              "<pre style=\"white-space:pre;overflow-x:auto;line-height:normal;font-family:Menlo,'DejaVu Sans Mono',consolas,'Courier New',monospace\"><span style=\"font-weight: bold\">Model: \"sequential_12\"</span>\n",
              "</pre>\n"
            ]
          },
          "metadata": {}
        },
        {
          "output_type": "display_data",
          "data": {
            "text/plain": [
              "┏━━━━━━━━━━━━━━━━━━━━━━━━━━━━━━━━━┳━━━━━━━━━━━━━━━━━━━━━━━━┳━━━━━━━━━━━━━━━┓\n",
              "┃\u001b[1m \u001b[0m\u001b[1mLayer (type)                   \u001b[0m\u001b[1m \u001b[0m┃\u001b[1m \u001b[0m\u001b[1mOutput Shape          \u001b[0m\u001b[1m \u001b[0m┃\u001b[1m \u001b[0m\u001b[1m      Param #\u001b[0m\u001b[1m \u001b[0m┃\n",
              "┡━━━━━━━━━━━━━━━━━━━━━━━━━━━━━━━━━╇━━━━━━━━━━━━━━━━━━━━━━━━╇━━━━━━━━━━━━━━━┩\n",
              "│ dense_26 (\u001b[38;5;33mDense\u001b[0m)                │ (\u001b[38;5;45mNone\u001b[0m, \u001b[38;5;34m64\u001b[0m)             │           \u001b[38;5;34m960\u001b[0m │\n",
              "├─────────────────────────────────┼────────────────────────┼───────────────┤\n",
              "│ dense_27 (\u001b[38;5;33mDense\u001b[0m)                │ (\u001b[38;5;45mNone\u001b[0m, \u001b[38;5;34m32\u001b[0m)             │         \u001b[38;5;34m2,080\u001b[0m │\n",
              "├─────────────────────────────────┼────────────────────────┼───────────────┤\n",
              "│ dense_28 (\u001b[38;5;33mDense\u001b[0m)                │ (\u001b[38;5;45mNone\u001b[0m, \u001b[38;5;34m3\u001b[0m)              │            \u001b[38;5;34m99\u001b[0m │\n",
              "└─────────────────────────────────┴────────────────────────┴───────────────┘\n"
            ],
            "text/html": [
              "<pre style=\"white-space:pre;overflow-x:auto;line-height:normal;font-family:Menlo,'DejaVu Sans Mono',consolas,'Courier New',monospace\">┏━━━━━━━━━━━━━━━━━━━━━━━━━━━━━━━━━┳━━━━━━━━━━━━━━━━━━━━━━━━┳━━━━━━━━━━━━━━━┓\n",
              "┃<span style=\"font-weight: bold\"> Layer (type)                    </span>┃<span style=\"font-weight: bold\"> Output Shape           </span>┃<span style=\"font-weight: bold\">       Param # </span>┃\n",
              "┡━━━━━━━━━━━━━━━━━━━━━━━━━━━━━━━━━╇━━━━━━━━━━━━━━━━━━━━━━━━╇━━━━━━━━━━━━━━━┩\n",
              "│ dense_26 (<span style=\"color: #0087ff; text-decoration-color: #0087ff\">Dense</span>)                │ (<span style=\"color: #00d7ff; text-decoration-color: #00d7ff\">None</span>, <span style=\"color: #00af00; text-decoration-color: #00af00\">64</span>)             │           <span style=\"color: #00af00; text-decoration-color: #00af00\">960</span> │\n",
              "├─────────────────────────────────┼────────────────────────┼───────────────┤\n",
              "│ dense_27 (<span style=\"color: #0087ff; text-decoration-color: #0087ff\">Dense</span>)                │ (<span style=\"color: #00d7ff; text-decoration-color: #00d7ff\">None</span>, <span style=\"color: #00af00; text-decoration-color: #00af00\">32</span>)             │         <span style=\"color: #00af00; text-decoration-color: #00af00\">2,080</span> │\n",
              "├─────────────────────────────────┼────────────────────────┼───────────────┤\n",
              "│ dense_28 (<span style=\"color: #0087ff; text-decoration-color: #0087ff\">Dense</span>)                │ (<span style=\"color: #00d7ff; text-decoration-color: #00d7ff\">None</span>, <span style=\"color: #00af00; text-decoration-color: #00af00\">3</span>)              │            <span style=\"color: #00af00; text-decoration-color: #00af00\">99</span> │\n",
              "└─────────────────────────────────┴────────────────────────┴───────────────┘\n",
              "</pre>\n"
            ]
          },
          "metadata": {}
        },
        {
          "output_type": "display_data",
          "data": {
            "text/plain": [
              "\u001b[1m Total params: \u001b[0m\u001b[38;5;34m3,139\u001b[0m (12.26 KB)\n"
            ],
            "text/html": [
              "<pre style=\"white-space:pre;overflow-x:auto;line-height:normal;font-family:Menlo,'DejaVu Sans Mono',consolas,'Courier New',monospace\"><span style=\"font-weight: bold\"> Total params: </span><span style=\"color: #00af00; text-decoration-color: #00af00\">3,139</span> (12.26 KB)\n",
              "</pre>\n"
            ]
          },
          "metadata": {}
        },
        {
          "output_type": "display_data",
          "data": {
            "text/plain": [
              "\u001b[1m Trainable params: \u001b[0m\u001b[38;5;34m3,139\u001b[0m (12.26 KB)\n"
            ],
            "text/html": [
              "<pre style=\"white-space:pre;overflow-x:auto;line-height:normal;font-family:Menlo,'DejaVu Sans Mono',consolas,'Courier New',monospace\"><span style=\"font-weight: bold\"> Trainable params: </span><span style=\"color: #00af00; text-decoration-color: #00af00\">3,139</span> (12.26 KB)\n",
              "</pre>\n"
            ]
          },
          "metadata": {}
        },
        {
          "output_type": "display_data",
          "data": {
            "text/plain": [
              "\u001b[1m Non-trainable params: \u001b[0m\u001b[38;5;34m0\u001b[0m (0.00 B)\n"
            ],
            "text/html": [
              "<pre style=\"white-space:pre;overflow-x:auto;line-height:normal;font-family:Menlo,'DejaVu Sans Mono',consolas,'Courier New',monospace\"><span style=\"font-weight: bold\"> Non-trainable params: </span><span style=\"color: #00af00; text-decoration-color: #00af00\">0</span> (0.00 B)\n",
              "</pre>\n"
            ]
          },
          "metadata": {}
        }
      ]
    },
    {
      "cell_type": "code",
      "source": [
        "model.compile(loss = tf.keras.losses.sparse_categorical_crossentropy, optimizer = tf.keras.optimizers.Adam(), metrics = ['acc']) # Use sparse_categorical_crossentropy for integer labels\n",
        "model.fit(X_train, y_train, batch_size = 32, verbose = 2, epochs = 60)"
      ],
      "metadata": {
        "colab": {
          "base_uri": "https://localhost:8080/"
        },
        "id": "oQHXAyjBkfiu",
        "outputId": "4f1bb5e9-5f18-4def-d685-cc3fc3de6d5e"
      },
      "execution_count": 223,
      "outputs": [
        {
          "output_type": "stream",
          "name": "stdout",
          "text": [
            "Epoch 1/60\n",
            "6/6 - 1s - 201ms/step - acc: 0.1765 - loss: 1.3020\n",
            "Epoch 2/60\n",
            "6/6 - 0s - 9ms/step - acc: 0.3743 - loss: 1.0966\n",
            "Epoch 3/60\n",
            "6/6 - 0s - 9ms/step - acc: 0.6150 - loss: 0.9637\n",
            "Epoch 4/60\n",
            "6/6 - 0s - 10ms/step - acc: 0.7112 - loss: 0.8560\n",
            "Epoch 5/60\n",
            "6/6 - 0s - 10ms/step - acc: 0.7273 - loss: 0.7723\n",
            "Epoch 6/60\n",
            "6/6 - 0s - 23ms/step - acc: 0.7273 - loss: 0.7137\n",
            "Epoch 7/60\n",
            "6/6 - 0s - 27ms/step - acc: 0.7326 - loss: 0.6627\n",
            "Epoch 8/60\n",
            "6/6 - 0s - 24ms/step - acc: 0.7326 - loss: 0.6200\n",
            "Epoch 9/60\n",
            "6/6 - 0s - 23ms/step - acc: 0.7647 - loss: 0.5889\n",
            "Epoch 10/60\n",
            "6/6 - 0s - 24ms/step - acc: 0.7807 - loss: 0.5603\n",
            "Epoch 11/60\n",
            "6/6 - 0s - 15ms/step - acc: 0.8075 - loss: 0.5388\n",
            "Epoch 12/60\n",
            "6/6 - 0s - 16ms/step - acc: 0.8235 - loss: 0.5173\n",
            "Epoch 13/60\n",
            "6/6 - 0s - 21ms/step - acc: 0.8289 - loss: 0.5003\n",
            "Epoch 14/60\n",
            "6/6 - 0s - 14ms/step - acc: 0.8342 - loss: 0.4852\n",
            "Epoch 15/60\n",
            "6/6 - 0s - 22ms/step - acc: 0.8396 - loss: 0.4702\n",
            "Epoch 16/60\n",
            "6/6 - 0s - 24ms/step - acc: 0.8449 - loss: 0.4568\n",
            "Epoch 17/60\n",
            "6/6 - 0s - 23ms/step - acc: 0.8503 - loss: 0.4437\n",
            "Epoch 18/60\n",
            "6/6 - 0s - 26ms/step - acc: 0.8503 - loss: 0.4325\n",
            "Epoch 19/60\n",
            "6/6 - 0s - 20ms/step - acc: 0.8610 - loss: 0.4215\n",
            "Epoch 20/60\n",
            "6/6 - 0s - 22ms/step - acc: 0.8663 - loss: 0.4107\n",
            "Epoch 21/60\n",
            "6/6 - 0s - 25ms/step - acc: 0.8663 - loss: 0.4009\n",
            "Epoch 22/60\n",
            "6/6 - 0s - 23ms/step - acc: 0.8770 - loss: 0.3916\n",
            "Epoch 23/60\n",
            "6/6 - 0s - 22ms/step - acc: 0.8824 - loss: 0.3824\n",
            "Epoch 24/60\n",
            "6/6 - 0s - 20ms/step - acc: 0.8824 - loss: 0.3739\n",
            "Epoch 25/60\n",
            "6/6 - 0s - 23ms/step - acc: 0.8824 - loss: 0.3657\n",
            "Epoch 26/60\n",
            "6/6 - 0s - 23ms/step - acc: 0.8824 - loss: 0.3573\n",
            "Epoch 27/60\n",
            "6/6 - 0s - 9ms/step - acc: 0.8877 - loss: 0.3496\n",
            "Epoch 28/60\n",
            "6/6 - 0s - 10ms/step - acc: 0.8930 - loss: 0.3417\n",
            "Epoch 29/60\n",
            "6/6 - 0s - 24ms/step - acc: 0.9037 - loss: 0.3345\n",
            "Epoch 30/60\n",
            "6/6 - 0s - 23ms/step - acc: 0.9037 - loss: 0.3265\n",
            "Epoch 31/60\n",
            "6/6 - 0s - 10ms/step - acc: 0.9037 - loss: 0.3201\n",
            "Epoch 32/60\n",
            "6/6 - 0s - 10ms/step - acc: 0.9091 - loss: 0.3123\n",
            "Epoch 33/60\n",
            "6/6 - 0s - 10ms/step - acc: 0.9091 - loss: 0.3049\n",
            "Epoch 34/60\n",
            "6/6 - 0s - 10ms/step - acc: 0.9144 - loss: 0.2984\n",
            "Epoch 35/60\n",
            "6/6 - 0s - 10ms/step - acc: 0.9144 - loss: 0.2924\n",
            "Epoch 36/60\n",
            "6/6 - 0s - 23ms/step - acc: 0.9144 - loss: 0.2852\n",
            "Epoch 37/60\n",
            "6/6 - 0s - 12ms/step - acc: 0.9144 - loss: 0.2787\n",
            "Epoch 38/60\n",
            "6/6 - 0s - 10ms/step - acc: 0.9144 - loss: 0.2735\n",
            "Epoch 39/60\n",
            "6/6 - 0s - 10ms/step - acc: 0.9144 - loss: 0.2671\n",
            "Epoch 40/60\n",
            "6/6 - 0s - 24ms/step - acc: 0.9144 - loss: 0.2629\n",
            "Epoch 41/60\n",
            "6/6 - 0s - 22ms/step - acc: 0.9198 - loss: 0.2550\n",
            "Epoch 42/60\n",
            "6/6 - 0s - 23ms/step - acc: 0.9198 - loss: 0.2491\n",
            "Epoch 43/60\n",
            "6/6 - 0s - 10ms/step - acc: 0.9198 - loss: 0.2430\n",
            "Epoch 44/60\n",
            "6/6 - 0s - 10ms/step - acc: 0.9198 - loss: 0.2376\n",
            "Epoch 45/60\n",
            "6/6 - 0s - 10ms/step - acc: 0.9251 - loss: 0.2324\n",
            "Epoch 46/60\n",
            "6/6 - 0s - 10ms/step - acc: 0.9305 - loss: 0.2269\n",
            "Epoch 47/60\n",
            "6/6 - 0s - 24ms/step - acc: 0.9412 - loss: 0.2215\n",
            "Epoch 48/60\n",
            "6/6 - 0s - 23ms/step - acc: 0.9465 - loss: 0.2169\n",
            "Epoch 49/60\n",
            "6/6 - 0s - 11ms/step - acc: 0.9465 - loss: 0.2127\n",
            "Epoch 50/60\n",
            "6/6 - 0s - 10ms/step - acc: 0.9572 - loss: 0.2060\n",
            "Epoch 51/60\n",
            "6/6 - 0s - 9ms/step - acc: 0.9519 - loss: 0.2026\n",
            "Epoch 52/60\n",
            "6/6 - 0s - 10ms/step - acc: 0.9519 - loss: 0.1967\n",
            "Epoch 53/60\n",
            "6/6 - 0s - 10ms/step - acc: 0.9626 - loss: 0.1920\n",
            "Epoch 54/60\n",
            "6/6 - 0s - 10ms/step - acc: 0.9626 - loss: 0.1879\n",
            "Epoch 55/60\n",
            "6/6 - 0s - 10ms/step - acc: 0.9626 - loss: 0.1831\n",
            "Epoch 56/60\n",
            "6/6 - 0s - 10ms/step - acc: 0.9626 - loss: 0.1783\n",
            "Epoch 57/60\n",
            "6/6 - 0s - 10ms/step - acc: 0.9626 - loss: 0.1734\n",
            "Epoch 58/60\n",
            "6/6 - 0s - 11ms/step - acc: 0.9679 - loss: 0.1690\n",
            "Epoch 59/60\n",
            "6/6 - 0s - 10ms/step - acc: 0.9679 - loss: 0.1648\n",
            "Epoch 60/60\n",
            "6/6 - 0s - 10ms/step - acc: 0.9679 - loss: 0.1609\n"
          ]
        },
        {
          "output_type": "execute_result",
          "data": {
            "text/plain": [
              "<keras.src.callbacks.history.History at 0x7ca0a064b350>"
            ]
          },
          "metadata": {},
          "execution_count": 223
        }
      ]
    },
    {
      "cell_type": "code",
      "source": [
        "predict = model.predict(X_test)\n",
        "predicted_classes = np.argmax(predict, axis=1)\n",
        "print(predicted_classes)"
      ],
      "metadata": {
        "id": "WO3Lx2o4k7FR",
        "outputId": "a9cec828-c14d-49ab-d7c9-9d8678e5cf46",
        "colab": {
          "base_uri": "https://localhost:8080/"
        }
      },
      "execution_count": 224,
      "outputs": [
        {
          "output_type": "stream",
          "name": "stdout",
          "text": [
            "\u001b[1m2/2\u001b[0m \u001b[32m━━━━━━━━━━━━━━━━━━━━\u001b[0m\u001b[37m\u001b[0m \u001b[1m0s\u001b[0m 198ms/step\n",
            "[0 0 0 0 0 0 0 0 0 0 1 2 0 1 0 0 0 1 0 0 0 0 0 0 0 1 0 0 0 0 0 0 0 1 1 0 0\n",
            " 0 0 0 2 0 1 0 0 2 0]\n"
          ]
        }
      ]
    },
    {
      "cell_type": "code",
      "source": [
        "from sklearn import metrics\n",
        "Y_pred_rand = np.argmax(model.predict(X_test), axis=1)\n",
        "print('Precision : ', np.round(metrics.precision_score(y_test, Y_pred_rand, average='weighted')*100,2))\n",
        "print('Accuracy : ', np.round(metrics.accuracy_score(y_test, Y_pred_rand)*100,2))\n",
        "print('Recall : ', np.round(metrics.recall_score(y_test, Y_pred_rand, average='weighted')*100,2))\n",
        "print('F1 score : ', np.round(metrics.f1_score(y_test, Y_pred_rand, average='weighted')*100,2))"
      ],
      "metadata": {
        "colab": {
          "base_uri": "https://localhost:8080/"
        },
        "id": "sCulhklyk67P",
        "outputId": "b712b635-bce4-4bcf-ded9-0cefa92461fa"
      },
      "execution_count": 225,
      "outputs": [
        {
          "output_type": "stream",
          "name": "stdout",
          "text": [
            "\u001b[1m2/2\u001b[0m \u001b[32m━━━━━━━━━━━━━━━━━━━━\u001b[0m\u001b[37m\u001b[0m \u001b[1m0s\u001b[0m 83ms/step\n",
            "Precision :  53.92\n",
            "Accuracy :  55.32\n",
            "Recall :  55.32\n",
            "F1 score :  49.64\n"
          ]
        }
      ]
    },
    {
      "cell_type": "markdown",
      "source": [
        "After addimg RELU again to a layer, the results here are better than the first one."
      ],
      "metadata": {
        "id": "Qjy0o4tXqc_q"
      }
    },
    {
      "cell_type": "code",
      "metadata": {
        "colab": {
          "base_uri": "https://localhost:8080/",
          "height": 300
        },
        "id": "da68f6a0",
        "outputId": "e631f574-0750-4943-da31-405c8d6108fa"
      },
      "source": [
        "results = {\n",
        "    'Model': ['Decision Tree (Tuned)', 'SVM (Linear)', 'SVM (RBF)', 'Random Forest', 'Random Forest (Grid Search)', 'Random Forest (Randomized Search)', 'Neural Network (Initial)', 'Neural Network (Tuned)'],\n",
        "    'Accuracy': [0.6170, 0.4894, 0.5319, 0.6170, 0.5957, 0.6170, 0.5106, 0.5532],\n",
        "    'Precision': [0.6480, 0.4923, 0.2829, 0.6480, 0.6100, 0.6530, 0.5144, 0.5392],\n",
        "    'Recall': [0.6170, 0.4894, 0.5319, 0.6170, 0.5957, 0.6170, 0.5106, 0.5532],\n",
        "    'F1-score': [0.5606, 0.4498, 0.3694, 0.5606, 0.5100, 0.5606, 0.4776, 0.4964]\n",
        "}\n",
        "\n",
        "results_df = pd.DataFrame(results)\n",
        "\n",
        "display(results_df.sort_values(by='Accuracy', ascending=False).style.background_gradient(subset=['Accuracy', 'Precision', 'Recall', 'F1-score'], cmap='Blues'))"
      ],
      "execution_count": 228,
      "outputs": [
        {
          "output_type": "display_data",
          "data": {
            "text/plain": [
              "<pandas.io.formats.style.Styler at 0x7ca0a8aa3b50>"
            ],
            "text/html": [
              "<style type=\"text/css\">\n",
              "#T_9cc0e_row0_col1, #T_9cc0e_row0_col3, #T_9cc0e_row0_col4, #T_9cc0e_row1_col1, #T_9cc0e_row1_col3, #T_9cc0e_row1_col4, #T_9cc0e_row2_col1, #T_9cc0e_row2_col2, #T_9cc0e_row2_col3, #T_9cc0e_row2_col4 {\n",
              "  background-color: #023858;\n",
              "  color: #f1f1f1;\n",
              "}\n",
              "#T_9cc0e_row0_col2, #T_9cc0e_row1_col2 {\n",
              "  background-color: #023b5d;\n",
              "  color: #f1f1f1;\n",
              "}\n",
              "#T_9cc0e_row3_col1, #T_9cc0e_row3_col3 {\n",
              "  background-color: #046198;\n",
              "  color: #f1f1f1;\n",
              "}\n",
              "#T_9cc0e_row3_col2 {\n",
              "  background-color: #045788;\n",
              "  color: #f1f1f1;\n",
              "}\n",
              "#T_9cc0e_row3_col4 {\n",
              "  background-color: #0a73b2;\n",
              "  color: #f1f1f1;\n",
              "}\n",
              "#T_9cc0e_row4_col1, #T_9cc0e_row4_col3 {\n",
              "  background-color: #73a9cf;\n",
              "  color: #f1f1f1;\n",
              "}\n",
              "#T_9cc0e_row4_col2 {\n",
              "  background-color: #1b7eb7;\n",
              "  color: #f1f1f1;\n",
              "}\n",
              "#T_9cc0e_row4_col4 {\n",
              "  background-color: #2685bb;\n",
              "  color: #f1f1f1;\n",
              "}\n",
              "#T_9cc0e_row5_col1, #T_9cc0e_row5_col3 {\n",
              "  background-color: #b4c4df;\n",
              "  color: #000000;\n",
              "}\n",
              "#T_9cc0e_row5_col2, #T_9cc0e_row5_col4, #T_9cc0e_row7_col1, #T_9cc0e_row7_col3 {\n",
              "  background-color: #fff7fb;\n",
              "  color: #000000;\n",
              "}\n",
              "#T_9cc0e_row6_col1, #T_9cc0e_row6_col3 {\n",
              "  background-color: #e3e0ee;\n",
              "  color: #000000;\n",
              "}\n",
              "#T_9cc0e_row6_col2 {\n",
              "  background-color: #358fc0;\n",
              "  color: #f1f1f1;\n",
              "}\n",
              "#T_9cc0e_row6_col4, #T_9cc0e_row7_col2 {\n",
              "  background-color: #549cc7;\n",
              "  color: #f1f1f1;\n",
              "}\n",
              "#T_9cc0e_row7_col4 {\n",
              "  background-color: #94b6d7;\n",
              "  color: #000000;\n",
              "}\n",
              "</style>\n",
              "<table id=\"T_9cc0e\" class=\"dataframe\">\n",
              "  <thead>\n",
              "    <tr>\n",
              "      <th class=\"blank level0\" >&nbsp;</th>\n",
              "      <th id=\"T_9cc0e_level0_col0\" class=\"col_heading level0 col0\" >Model</th>\n",
              "      <th id=\"T_9cc0e_level0_col1\" class=\"col_heading level0 col1\" >Accuracy</th>\n",
              "      <th id=\"T_9cc0e_level0_col2\" class=\"col_heading level0 col2\" >Precision</th>\n",
              "      <th id=\"T_9cc0e_level0_col3\" class=\"col_heading level0 col3\" >Recall</th>\n",
              "      <th id=\"T_9cc0e_level0_col4\" class=\"col_heading level0 col4\" >F1-score</th>\n",
              "    </tr>\n",
              "  </thead>\n",
              "  <tbody>\n",
              "    <tr>\n",
              "      <th id=\"T_9cc0e_level0_row0\" class=\"row_heading level0 row0\" >0</th>\n",
              "      <td id=\"T_9cc0e_row0_col0\" class=\"data row0 col0\" >Decision Tree (Tuned)</td>\n",
              "      <td id=\"T_9cc0e_row0_col1\" class=\"data row0 col1\" >0.617000</td>\n",
              "      <td id=\"T_9cc0e_row0_col2\" class=\"data row0 col2\" >0.648000</td>\n",
              "      <td id=\"T_9cc0e_row0_col3\" class=\"data row0 col3\" >0.617000</td>\n",
              "      <td id=\"T_9cc0e_row0_col4\" class=\"data row0 col4\" >0.560600</td>\n",
              "    </tr>\n",
              "    <tr>\n",
              "      <th id=\"T_9cc0e_level0_row1\" class=\"row_heading level0 row1\" >3</th>\n",
              "      <td id=\"T_9cc0e_row1_col0\" class=\"data row1 col0\" >Random Forest</td>\n",
              "      <td id=\"T_9cc0e_row1_col1\" class=\"data row1 col1\" >0.617000</td>\n",
              "      <td id=\"T_9cc0e_row1_col2\" class=\"data row1 col2\" >0.648000</td>\n",
              "      <td id=\"T_9cc0e_row1_col3\" class=\"data row1 col3\" >0.617000</td>\n",
              "      <td id=\"T_9cc0e_row1_col4\" class=\"data row1 col4\" >0.560600</td>\n",
              "    </tr>\n",
              "    <tr>\n",
              "      <th id=\"T_9cc0e_level0_row2\" class=\"row_heading level0 row2\" >5</th>\n",
              "      <td id=\"T_9cc0e_row2_col0\" class=\"data row2 col0\" >Random Forest (Randomized Search)</td>\n",
              "      <td id=\"T_9cc0e_row2_col1\" class=\"data row2 col1\" >0.617000</td>\n",
              "      <td id=\"T_9cc0e_row2_col2\" class=\"data row2 col2\" >0.653000</td>\n",
              "      <td id=\"T_9cc0e_row2_col3\" class=\"data row2 col3\" >0.617000</td>\n",
              "      <td id=\"T_9cc0e_row2_col4\" class=\"data row2 col4\" >0.560600</td>\n",
              "    </tr>\n",
              "    <tr>\n",
              "      <th id=\"T_9cc0e_level0_row3\" class=\"row_heading level0 row3\" >4</th>\n",
              "      <td id=\"T_9cc0e_row3_col0\" class=\"data row3 col0\" >Random Forest (Grid Search)</td>\n",
              "      <td id=\"T_9cc0e_row3_col1\" class=\"data row3 col1\" >0.595700</td>\n",
              "      <td id=\"T_9cc0e_row3_col2\" class=\"data row3 col2\" >0.610000</td>\n",
              "      <td id=\"T_9cc0e_row3_col3\" class=\"data row3 col3\" >0.595700</td>\n",
              "      <td id=\"T_9cc0e_row3_col4\" class=\"data row3 col4\" >0.510000</td>\n",
              "    </tr>\n",
              "    <tr>\n",
              "      <th id=\"T_9cc0e_level0_row4\" class=\"row_heading level0 row4\" >7</th>\n",
              "      <td id=\"T_9cc0e_row4_col0\" class=\"data row4 col0\" >Neural Network (Tuned)</td>\n",
              "      <td id=\"T_9cc0e_row4_col1\" class=\"data row4 col1\" >0.553200</td>\n",
              "      <td id=\"T_9cc0e_row4_col2\" class=\"data row4 col2\" >0.539200</td>\n",
              "      <td id=\"T_9cc0e_row4_col3\" class=\"data row4 col3\" >0.553200</td>\n",
              "      <td id=\"T_9cc0e_row4_col4\" class=\"data row4 col4\" >0.496400</td>\n",
              "    </tr>\n",
              "    <tr>\n",
              "      <th id=\"T_9cc0e_level0_row5\" class=\"row_heading level0 row5\" >2</th>\n",
              "      <td id=\"T_9cc0e_row5_col0\" class=\"data row5 col0\" >SVM (RBF)</td>\n",
              "      <td id=\"T_9cc0e_row5_col1\" class=\"data row5 col1\" >0.531900</td>\n",
              "      <td id=\"T_9cc0e_row5_col2\" class=\"data row5 col2\" >0.282900</td>\n",
              "      <td id=\"T_9cc0e_row5_col3\" class=\"data row5 col3\" >0.531900</td>\n",
              "      <td id=\"T_9cc0e_row5_col4\" class=\"data row5 col4\" >0.369400</td>\n",
              "    </tr>\n",
              "    <tr>\n",
              "      <th id=\"T_9cc0e_level0_row6\" class=\"row_heading level0 row6\" >6</th>\n",
              "      <td id=\"T_9cc0e_row6_col0\" class=\"data row6 col0\" >Neural Network (Initial)</td>\n",
              "      <td id=\"T_9cc0e_row6_col1\" class=\"data row6 col1\" >0.510600</td>\n",
              "      <td id=\"T_9cc0e_row6_col2\" class=\"data row6 col2\" >0.514400</td>\n",
              "      <td id=\"T_9cc0e_row6_col3\" class=\"data row6 col3\" >0.510600</td>\n",
              "      <td id=\"T_9cc0e_row6_col4\" class=\"data row6 col4\" >0.477600</td>\n",
              "    </tr>\n",
              "    <tr>\n",
              "      <th id=\"T_9cc0e_level0_row7\" class=\"row_heading level0 row7\" >1</th>\n",
              "      <td id=\"T_9cc0e_row7_col0\" class=\"data row7 col0\" >SVM (Linear)</td>\n",
              "      <td id=\"T_9cc0e_row7_col1\" class=\"data row7 col1\" >0.489400</td>\n",
              "      <td id=\"T_9cc0e_row7_col2\" class=\"data row7 col2\" >0.492300</td>\n",
              "      <td id=\"T_9cc0e_row7_col3\" class=\"data row7 col3\" >0.489400</td>\n",
              "      <td id=\"T_9cc0e_row7_col4\" class=\"data row7 col4\" >0.449800</td>\n",
              "    </tr>\n",
              "  </tbody>\n",
              "</table>\n"
            ]
          },
          "metadata": {}
        }
      ]
    },
    {
      "cell_type": "markdown",
      "source": [
        "**Above is the comapred table of the models, before and after tuning. We see that, Decsion Tree worked the best among of all and the SVM \"Liner\" kernel was at the lowest with the accuracy, precision, recall and F-1 score.**"
      ],
      "metadata": {
        "id": "d-7nrPFatSFN"
      }
    }
  ]
}